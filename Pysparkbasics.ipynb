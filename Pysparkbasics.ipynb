{
 "cells": [
  {
   "cell_type": "code",
   "execution_count": 1,
   "metadata": {},
   "outputs": [
    {
     "name": "stdout",
     "output_type": "stream",
     "text": [
      "Collecting pyspark\n",
      "  Downloading pyspark-3.5.1.tar.gz (317.0 MB)\n",
      "\u001b[2K     \u001b[90m━━━━━━━━━━━━━━━━━━━━━━━━━━━━━━━━━━━━━━━\u001b[0m \u001b[32m317.0/317.0 MB\u001b[0m \u001b[31m7.0 MB/s\u001b[0m eta \u001b[36m0:00:00\u001b[0m00:01\u001b[0m00:01\u001b[0m\n",
      "\u001b[?25h  Preparing metadata (setup.py) ... \u001b[?25ldone\n",
      "\u001b[?25hCollecting py4j==0.10.9.7 (from pyspark)\n",
      "  Downloading py4j-0.10.9.7-py2.py3-none-any.whl.metadata (1.5 kB)\n",
      "Downloading py4j-0.10.9.7-py2.py3-none-any.whl (200 kB)\n",
      "\u001b[2K   \u001b[90m━━━━━━━━━━━━━━━━━━━━━━━━━━━━━━━━━━━━━━━━\u001b[0m \u001b[32m200.5/200.5 kB\u001b[0m \u001b[31m5.7 MB/s\u001b[0m eta \u001b[36m0:00:00\u001b[0m\n",
      "\u001b[?25hBuilding wheels for collected packages: pyspark\n",
      "  Building wheel for pyspark (setup.py) ... \u001b[?25ldone\n",
      "\u001b[?25h  Created wheel for pyspark: filename=pyspark-3.5.1-py2.py3-none-any.whl size=317488491 sha256=499c0ce21647f58a9d4f37789ddb9a7b235053ece72456c63fd6bca923f35efd\n",
      "  Stored in directory: /home/codespace/.cache/pip/wheels/95/13/41/f7f135ee114175605fb4f0a89e7389f3742aa6c1e1a5bcb657\n",
      "Successfully built pyspark\n",
      "Installing collected packages: py4j, pyspark\n",
      "Successfully installed py4j-0.10.9.7 pyspark-3.5.1\n"
     ]
    }
   ],
   "source": [
    "! pip install pyspark"
   ]
  },
  {
   "cell_type": "code",
   "execution_count": 1,
   "metadata": {},
   "outputs": [],
   "source": [
    "import pyspark"
   ]
  },
  {
   "cell_type": "code",
   "execution_count": 2,
   "metadata": {},
   "outputs": [],
   "source": [
    "from pyspark.sql import SparkSession"
   ]
  },
  {
   "cell_type": "code",
   "execution_count": 3,
   "metadata": {},
   "outputs": [
    {
     "name": "stderr",
     "output_type": "stream",
     "text": [
      "24/07/11 01:48:03 WARN Utils: Your hostname, codespaces-fb7010 resolves to a loopback address: 127.0.0.1; using 172.16.5.4 instead (on interface eth0)\n",
      "24/07/11 01:48:03 WARN Utils: Set SPARK_LOCAL_IP if you need to bind to another address\n",
      "Setting default log level to \"WARN\".\n",
      "To adjust logging level use sc.setLogLevel(newLevel). For SparkR, use setLogLevel(newLevel).\n",
      "24/07/11 01:48:04 WARN NativeCodeLoader: Unable to load native-hadoop library for your platform... using builtin-java classes where applicable\n"
     ]
    }
   ],
   "source": [
    "spark = SparkSession.builder.appName('Spark').getOrCreate()"
   ]
  },
  {
   "cell_type": "code",
   "execution_count": 4,
   "metadata": {},
   "outputs": [
    {
     "data": {
      "text/html": [
       "\n",
       "            <div>\n",
       "                <p><b>SparkSession - in-memory</b></p>\n",
       "                \n",
       "        <div>\n",
       "            <p><b>SparkContext</b></p>\n",
       "\n",
       "            <p><a href=\"http://ea26cecd-f648-4afe-98bc-7ce49e594e77.internal.cloudapp.net:4040\">Spark UI</a></p>\n",
       "\n",
       "            <dl>\n",
       "              <dt>Version</dt>\n",
       "                <dd><code>v3.5.1</code></dd>\n",
       "              <dt>Master</dt>\n",
       "                <dd><code>local[*]</code></dd>\n",
       "              <dt>AppName</dt>\n",
       "                <dd><code>Spark</code></dd>\n",
       "            </dl>\n",
       "        </div>\n",
       "        \n",
       "            </div>\n",
       "        "
      ],
      "text/plain": [
       "<pyspark.sql.session.SparkSession at 0x7fe065b5cd50>"
      ]
     },
     "execution_count": 4,
     "metadata": {},
     "output_type": "execute_result"
    }
   ],
   "source": [
    "spark"
   ]
  },
  {
   "cell_type": "code",
   "execution_count": 5,
   "metadata": {},
   "outputs": [],
   "source": [
    "df = spark.read.csv('student.csv' , header=True , inferSchema=True)"
   ]
  },
  {
   "cell_type": "code",
   "execution_count": 6,
   "metadata": {},
   "outputs": [
    {
     "data": {
      "text/plain": [
       "DataFrame[school: string, sex: string, age: int, address: string, famsize: string, Pstatus: string, Medu: string, Fedu: string, Mjob: string, Fjob: string, reason: string, guardian: string, traveltime: string, studytime: string, failures: int, schoolsup: string, famsup: string, paid: string, activities: string, nursery: string, higher: string, internet: string, romantic: string, famrel: string, freetime: string, goout: string, Dalc: string, Walc: string, health: string, absences: int, G1: int, G2: int, G3: int]"
      ]
     },
     "execution_count": 6,
     "metadata": {},
     "output_type": "execute_result"
    }
   ],
   "source": [
    "df"
   ]
  },
  {
   "cell_type": "code",
   "execution_count": 7,
   "metadata": {},
   "outputs": [
    {
     "name": "stdout",
     "output_type": "stream",
     "text": [
      "root\n",
      " |-- school: string (nullable = true)\n",
      " |-- sex: string (nullable = true)\n",
      " |-- age: integer (nullable = true)\n",
      " |-- address: string (nullable = true)\n",
      " |-- famsize: string (nullable = true)\n",
      " |-- Pstatus: string (nullable = true)\n",
      " |-- Medu: string (nullable = true)\n",
      " |-- Fedu: string (nullable = true)\n",
      " |-- Mjob: string (nullable = true)\n",
      " |-- Fjob: string (nullable = true)\n",
      " |-- reason: string (nullable = true)\n",
      " |-- guardian: string (nullable = true)\n",
      " |-- traveltime: string (nullable = true)\n",
      " |-- studytime: string (nullable = true)\n",
      " |-- failures: integer (nullable = true)\n",
      " |-- schoolsup: string (nullable = true)\n",
      " |-- famsup: string (nullable = true)\n",
      " |-- paid: string (nullable = true)\n",
      " |-- activities: string (nullable = true)\n",
      " |-- nursery: string (nullable = true)\n",
      " |-- higher: string (nullable = true)\n",
      " |-- internet: string (nullable = true)\n",
      " |-- romantic: string (nullable = true)\n",
      " |-- famrel: string (nullable = true)\n",
      " |-- freetime: string (nullable = true)\n",
      " |-- goout: string (nullable = true)\n",
      " |-- Dalc: string (nullable = true)\n",
      " |-- Walc: string (nullable = true)\n",
      " |-- health: string (nullable = true)\n",
      " |-- absences: integer (nullable = true)\n",
      " |-- G1: integer (nullable = true)\n",
      " |-- G2: integer (nullable = true)\n",
      " |-- G3: integer (nullable = true)\n",
      "\n"
     ]
    }
   ],
   "source": [
    "df.printSchema()"
   ]
  },
  {
   "cell_type": "code",
   "execution_count": 8,
   "metadata": {},
   "outputs": [
    {
     "name": "stderr",
     "output_type": "stream",
     "text": [
      "24/07/11 01:48:12 WARN SparkStringUtils: Truncated the string representation of a plan since it was too large. This behavior can be adjusted by setting 'spark.sql.debug.maxToStringFields'.\n"
     ]
    },
    {
     "name": "stdout",
     "output_type": "stream",
     "text": [
      "+------+---+---+-------+-------+-------+--------------------+--------------------+--------+--------+----------+--------+-----------------+-------------+--------+---------+------+----+----------+-------+------+--------+--------+---------+---------+---------+--------+--------+---------+--------+---+---+---+\n",
      "|school|sex|age|address|famsize|Pstatus|                Medu|                Fedu|    Mjob|    Fjob|    reason|guardian|       traveltime|    studytime|failures|schoolsup|famsup|paid|activities|nursery|higher|internet|romantic|   famrel| freetime|    goout|    Dalc|    Walc|   health|absences| G1| G2| G3|\n",
      "+------+---+---+-------+-------+-------+--------------------+--------------------+--------+--------+----------+--------+-----------------+-------------+--------+---------+------+----+----------+-------+------+--------+--------+---------+---------+---------+--------+--------+---------+--------+---+---+---+\n",
      "|    GP|  F| 18|      U|    GT3|      A|    higher education|    higher education| at_home| teacher|    course|  mother|    15 to 30 min.| 2 to 5 hours|       0|      yes|    no|  no|        no|    yes|   yes|      no|      no|very good|   medium|     high|very low|very low|     good|       6|  5|  6|  6|\n",
      "|    GP|  F| 17|      U|    GT3|      T|primary education...|primary education...| at_home|   other|    course|  father|         <15 min.| 2 to 5 hours|       0|       no|   yes|  no|        no|     no|   yes|     yes|      no|excellent|   medium|   medium|very low|very low|     good|       4|  5|  5|  6|\n",
      "|    GP|  F| 15|      U|    LE3|      T|primary education...|primary education...| at_home|   other|     other|  mother|         <15 min.| 2 to 5 hours|       3|      yes|    no| yes|        no|    yes|   yes|     yes|      no|very good|   medium|      low|     low|  medium|     good|      10|  7|  8| 10|\n",
      "|    GP|  F| 15|      U|    GT3|      T|    higher education|    5th to 9th grade|  health|services|      home|  mother|         <15 min.|5 to 10 hours|       0|       no|   yes| yes|       yes|    yes|   yes|     yes|     yes|     good|      low|      low|very low|very low|excellent|       2| 15| 14| 15|\n",
      "|    GP|  F| 16|      U|    GT3|      T| secondary education| secondary education|   other|   other|      home|  father|         <15 min.| 2 to 5 hours|       0|       no|   yes| yes|        no|    yes|   yes|      no|      no|very good|   medium|      low|very low|     low|excellent|       4|  6| 10| 10|\n",
      "|    GP|  M| 16|      U|    LE3|      T|    higher education| secondary education|services|   other|reputation|  mother|         <15 min.| 2 to 5 hours|       0|       no|   yes| yes|       yes|    yes|   yes|     yes|      no|excellent|     high|      low|very low|     low|excellent|      10| 15| 15| 15|\n",
      "|    GP|  M| 16|      U|    LE3|      T|    5th to 9th grade|    5th to 9th grade|   other|   other|      home|  mother|         <15 min.| 2 to 5 hours|       0|       no|    no|  no|        no|    yes|   yes|     yes|      no|very good|     high|     high|very low|very low|     good|       0| 12| 12| 11|\n",
      "|    GP|  F| 17|      U|    GT3|      A|    higher education|    higher education|   other| teacher|      home|  mother|    15 to 30 min.| 2 to 5 hours|       0|      yes|   yes|  no|        no|    yes|   yes|      no|      no|very good| very low|     high|very low|very low| very bad|       6|  6|  5|  6|\n",
      "|    GP|  M| 15|      U|    LE3|      A| secondary education|    5th to 9th grade|services|   other|      home|  mother|         <15 min.| 2 to 5 hours|       0|       no|   yes| yes|        no|    yes|   yes|     yes|      no|very good|      low|      low|very low|very low| very bad|       0| 16| 18| 19|\n",
      "|    GP|  M| 15|      U|    GT3|      T| secondary education|    higher education|   other|   other|      home|  mother|         <15 min.| 2 to 5 hours|       0|       no|   yes| yes|       yes|    yes|   yes|     yes|      no|excellent|very high| very low|very low|very low|excellent|       0| 14| 15| 15|\n",
      "|    GP|  F| 15|      U|    GT3|      T|    higher education|    higher education| teacher|  health|reputation|  mother|         <15 min.| 2 to 5 hours|       0|       no|   yes| yes|        no|    yes|   yes|     yes|      no|     good|   medium|   medium|very low|     low|      bad|       0| 10|  8|  9|\n",
      "|    GP|  F| 15|      U|    GT3|      T|    5th to 9th grade|primary education...|services|   other|reputation|  father|30 min. to 1 hour|5 to 10 hours|       0|       no|   yes|  no|       yes|    yes|   yes|     yes|      no|excellent|      low|      low|very low|very low|very good|       4| 10| 12| 12|\n",
      "|    GP|  M| 15|      U|    LE3|      T|    higher education|    higher education|  health|services|    course|  father|         <15 min.|     <2 hours|       0|       no|   yes| yes|       yes|    yes|   yes|     yes|      no|very good|   medium|   medium|very low|  medium|excellent|       2| 14| 14| 14|\n",
      "|    GP|  M| 15|      U|    GT3|      T|    higher education| secondary education| teacher|   other|    course|  mother|    15 to 30 min.| 2 to 5 hours|       0|       no|   yes| yes|        no|    yes|   yes|     yes|      no|excellent|     high|   medium|very low|     low|     good|       2| 10| 10| 11|\n",
      "|    GP|  M| 15|      U|    GT3|      A|    5th to 9th grade|    5th to 9th grade|   other|   other|      home|   other|         <15 min.|5 to 10 hours|       0|       no|   yes|  no|        no|    yes|   yes|     yes|     yes|very good|very high|      low|very low|very low|     good|       0| 14| 16| 16|\n",
      "|    GP|  F| 16|      U|    GT3|      T|    higher education|    higher education|  health|   other|      home|  mother|         <15 min.|     <2 hours|       0|       no|   yes|  no|        no|    yes|   yes|     yes|      no|very good|     high|     high|very low|     low|      bad|       4| 14| 14| 14|\n",
      "|    GP|  F| 16|      U|    GT3|      T|    higher education|    higher education|services|services|reputation|  mother|         <15 min.|5 to 10 hours|       0|       no|   yes| yes|       yes|    yes|   yes|     yes|      no|     good|      low|   medium|very low|     low|      bad|       6| 13| 14| 14|\n",
      "|    GP|  F| 16|      U|    GT3|      T| secondary education| secondary education|   other|   other|reputation|  mother|30 min. to 1 hour| 2 to 5 hours|       0|      yes|   yes|  no|       yes|    yes|   yes|      no|      no|excellent|   medium|      low|very low|very low|very good|       4|  8| 10| 10|\n",
      "|    GP|  M| 17|      U|    GT3|      T| secondary education|    5th to 9th grade|services|services|    course|  mother|         <15 min.|     <2 hours|       3|       no|   yes|  no|       yes|    yes|   yes|     yes|      no|excellent|very high|very high|     low|    high|excellent|      16|  6|  5|  5|\n",
      "|    GP|  M| 16|      U|    LE3|      T|    higher education| secondary education|  health|   other|      home|  father|         <15 min.|     <2 hours|       0|       no|    no| yes|       yes|    yes|   yes|     yes|      no|     good| very low|   medium|very low|  medium|excellent|       4|  8| 10| 10|\n",
      "+------+---+---+-------+-------+-------+--------------------+--------------------+--------+--------+----------+--------+-----------------+-------------+--------+---------+------+----+----------+-------+------+--------+--------+---------+---------+---------+--------+--------+---------+--------+---+---+---+\n",
      "only showing top 20 rows\n",
      "\n"
     ]
    }
   ],
   "source": [
    "# Drop the rows with missing values\n",
    "df.na.drop().show()"
   ]
  },
  {
   "cell_type": "code",
   "execution_count": 9,
   "metadata": {},
   "outputs": [
    {
     "name": "stdout",
     "output_type": "stream",
     "text": [
      "+------+---+---+-------+-------+-------+--------------------+--------------------+--------+--------+----------+--------+-----------------+-------------+--------+---------+------+----+----------+-------+------+--------+--------+---------+---------+---------+--------+--------+---------+--------+---+---+---+\n",
      "|school|sex|age|address|famsize|Pstatus|                Medu|                Fedu|    Mjob|    Fjob|    reason|guardian|       traveltime|    studytime|failures|schoolsup|famsup|paid|activities|nursery|higher|internet|romantic|   famrel| freetime|    goout|    Dalc|    Walc|   health|absences| G1| G2| G3|\n",
      "+------+---+---+-------+-------+-------+--------------------+--------------------+--------+--------+----------+--------+-----------------+-------------+--------+---------+------+----+----------+-------+------+--------+--------+---------+---------+---------+--------+--------+---------+--------+---+---+---+\n",
      "|    GP|  F| 18|      U|    GT3|      A|    higher education|    higher education| at_home| teacher|    course|  mother|    15 to 30 min.| 2 to 5 hours|       0|      yes|    no|  no|        no|    yes|   yes|      no|      no|very good|   medium|     high|very low|very low|     good|       6|  5|  6|  6|\n",
      "|    GP|  F| 17|      U|    GT3|      T|primary education...|primary education...| at_home|   other|    course|  father|         <15 min.| 2 to 5 hours|       0|       no|   yes|  no|        no|     no|   yes|     yes|      no|excellent|   medium|   medium|very low|very low|     good|       4|  5|  5|  6|\n",
      "|    GP|  F| 15|      U|    LE3|      T|primary education...|primary education...| at_home|   other|     other|  mother|         <15 min.| 2 to 5 hours|       3|      yes|    no| yes|        no|    yes|   yes|     yes|      no|very good|   medium|      low|     low|  medium|     good|      10|  7|  8| 10|\n",
      "|    GP|  F| 15|      U|    GT3|      T|    higher education|    5th to 9th grade|  health|services|      home|  mother|         <15 min.|5 to 10 hours|       0|       no|   yes| yes|       yes|    yes|   yes|     yes|     yes|     good|      low|      low|very low|very low|excellent|       2| 15| 14| 15|\n",
      "|    GP|  F| 16|      U|    GT3|      T| secondary education| secondary education|   other|   other|      home|  father|         <15 min.| 2 to 5 hours|       0|       no|   yes| yes|        no|    yes|   yes|      no|      no|very good|   medium|      low|very low|     low|excellent|       4|  6| 10| 10|\n",
      "|    GP|  M| 16|      U|    LE3|      T|    higher education| secondary education|services|   other|reputation|  mother|         <15 min.| 2 to 5 hours|       0|       no|   yes| yes|       yes|    yes|   yes|     yes|      no|excellent|     high|      low|very low|     low|excellent|      10| 15| 15| 15|\n",
      "|    GP|  M| 16|      U|    LE3|      T|    5th to 9th grade|    5th to 9th grade|   other|   other|      home|  mother|         <15 min.| 2 to 5 hours|       0|       no|    no|  no|        no|    yes|   yes|     yes|      no|very good|     high|     high|very low|very low|     good|       0| 12| 12| 11|\n",
      "|    GP|  F| 17|      U|    GT3|      A|    higher education|    higher education|   other| teacher|      home|  mother|    15 to 30 min.| 2 to 5 hours|       0|      yes|   yes|  no|        no|    yes|   yes|      no|      no|very good| very low|     high|very low|very low| very bad|       6|  6|  5|  6|\n",
      "|    GP|  M| 15|      U|    LE3|      A| secondary education|    5th to 9th grade|services|   other|      home|  mother|         <15 min.| 2 to 5 hours|       0|       no|   yes| yes|        no|    yes|   yes|     yes|      no|very good|      low|      low|very low|very low| very bad|       0| 16| 18| 19|\n",
      "|    GP|  M| 15|      U|    GT3|      T| secondary education|    higher education|   other|   other|      home|  mother|         <15 min.| 2 to 5 hours|       0|       no|   yes| yes|       yes|    yes|   yes|     yes|      no|excellent|very high| very low|very low|very low|excellent|       0| 14| 15| 15|\n",
      "|    GP|  F| 15|      U|    GT3|      T|    higher education|    higher education| teacher|  health|reputation|  mother|         <15 min.| 2 to 5 hours|       0|       no|   yes| yes|        no|    yes|   yes|     yes|      no|     good|   medium|   medium|very low|     low|      bad|       0| 10|  8|  9|\n",
      "|    GP|  F| 15|      U|    GT3|      T|    5th to 9th grade|primary education...|services|   other|reputation|  father|30 min. to 1 hour|5 to 10 hours|       0|       no|   yes|  no|       yes|    yes|   yes|     yes|      no|excellent|      low|      low|very low|very low|very good|       4| 10| 12| 12|\n",
      "|    GP|  M| 15|      U|    LE3|      T|    higher education|    higher education|  health|services|    course|  father|         <15 min.|     <2 hours|       0|       no|   yes| yes|       yes|    yes|   yes|     yes|      no|very good|   medium|   medium|very low|  medium|excellent|       2| 14| 14| 14|\n",
      "|    GP|  M| 15|      U|    GT3|      T|    higher education| secondary education| teacher|   other|    course|  mother|    15 to 30 min.| 2 to 5 hours|       0|       no|   yes| yes|        no|    yes|   yes|     yes|      no|excellent|     high|   medium|very low|     low|     good|       2| 10| 10| 11|\n",
      "|    GP|  M| 15|      U|    GT3|      A|    5th to 9th grade|    5th to 9th grade|   other|   other|      home|   other|         <15 min.|5 to 10 hours|       0|       no|   yes|  no|        no|    yes|   yes|     yes|     yes|very good|very high|      low|very low|very low|     good|       0| 14| 16| 16|\n",
      "|    GP|  F| 16|      U|    GT3|      T|    higher education|    higher education|  health|   other|      home|  mother|         <15 min.|     <2 hours|       0|       no|   yes|  no|        no|    yes|   yes|     yes|      no|very good|     high|     high|very low|     low|      bad|       4| 14| 14| 14|\n",
      "|    GP|  F| 16|      U|    GT3|      T|    higher education|    higher education|services|services|reputation|  mother|         <15 min.|5 to 10 hours|       0|       no|   yes| yes|       yes|    yes|   yes|     yes|      no|     good|      low|   medium|very low|     low|      bad|       6| 13| 14| 14|\n",
      "|    GP|  F| 16|      U|    GT3|      T| secondary education| secondary education|   other|   other|reputation|  mother|30 min. to 1 hour| 2 to 5 hours|       0|      yes|   yes|  no|       yes|    yes|   yes|      no|      no|excellent|   medium|      low|very low|very low|very good|       4|  8| 10| 10|\n",
      "|    GP|  M| 17|      U|    GT3|      T| secondary education|    5th to 9th grade|services|services|    course|  mother|         <15 min.|     <2 hours|       3|       no|   yes|  no|       yes|    yes|   yes|     yes|      no|excellent|very high|very high|     low|    high|excellent|      16|  6|  5|  5|\n",
      "|    GP|  M| 16|      U|    LE3|      T|    higher education| secondary education|  health|   other|      home|  father|         <15 min.|     <2 hours|       0|       no|    no| yes|       yes|    yes|   yes|     yes|      no|     good| very low|   medium|very low|  medium|excellent|       4|  8| 10| 10|\n",
      "+------+---+---+-------+-------+-------+--------------------+--------------------+--------+--------+----------+--------+-----------------+-------------+--------+---------+------+----+----------+-------+------+--------+--------+---------+---------+---------+--------+--------+---------+--------+---+---+---+\n",
      "only showing top 20 rows\n",
      "\n"
     ]
    }
   ],
   "source": [
    "df.na.drop(thresh=2).show()"
   ]
  },
  {
   "cell_type": "code",
   "execution_count": 10,
   "metadata": {},
   "outputs": [
    {
     "name": "stdout",
     "output_type": "stream",
     "text": [
      "+------+---+---+-------+-------+-------+--------------------+--------------------+--------+--------+----------+--------+-----------------+-------------+--------+---------+------+----+----------+-------+------+--------+--------+---------+---------+---------+--------+--------+---------+--------+---+---+---+\n",
      "|school|sex|age|address|famsize|Pstatus|                Medu|                Fedu|    Mjob|    Fjob|    reason|guardian|       traveltime|    studytime|failures|schoolsup|famsup|paid|activities|nursery|higher|internet|romantic|   famrel| freetime|    goout|    Dalc|    Walc|   health|absences| G1| G2| G3|\n",
      "+------+---+---+-------+-------+-------+--------------------+--------------------+--------+--------+----------+--------+-----------------+-------------+--------+---------+------+----+----------+-------+------+--------+--------+---------+---------+---------+--------+--------+---------+--------+---+---+---+\n",
      "|    GP|  F| 18|      U|    GT3|      A|    higher education|    higher education| at_home| teacher|    course|  mother|    15 to 30 min.| 2 to 5 hours|       0|      yes|    no|  no|        no|    yes|   yes|      no|      no|very good|   medium|     high|very low|very low|     good|       6|  5|  6|  6|\n",
      "|    GP|  F| 17|      U|    GT3|      T|primary education...|primary education...| at_home|   other|    course|  father|         <15 min.| 2 to 5 hours|       0|       no|   yes|  no|        no|     no|   yes|     yes|      no|excellent|   medium|   medium|very low|very low|     good|       4|  5|  5|  6|\n",
      "|    GP|  F| 15|      U|    LE3|      T|primary education...|primary education...| at_home|   other|     other|  mother|         <15 min.| 2 to 5 hours|       3|      yes|    no| yes|        no|    yes|   yes|     yes|      no|very good|   medium|      low|     low|  medium|     good|      10|  7|  8| 10|\n",
      "|    GP|  F| 15|      U|    GT3|      T|    higher education|    5th to 9th grade|  health|services|      home|  mother|         <15 min.|5 to 10 hours|       0|       no|   yes| yes|       yes|    yes|   yes|     yes|     yes|     good|      low|      low|very low|very low|excellent|       2| 15| 14| 15|\n",
      "|    GP|  F| 16|      U|    GT3|      T| secondary education| secondary education|   other|   other|      home|  father|         <15 min.| 2 to 5 hours|       0|       no|   yes| yes|        no|    yes|   yes|      no|      no|very good|   medium|      low|very low|     low|excellent|       4|  6| 10| 10|\n",
      "|    GP|  M| 16|      U|    LE3|      T|    higher education| secondary education|services|   other|reputation|  mother|         <15 min.| 2 to 5 hours|       0|       no|   yes| yes|       yes|    yes|   yes|     yes|      no|excellent|     high|      low|very low|     low|excellent|      10| 15| 15| 15|\n",
      "|    GP|  M| 16|      U|    LE3|      T|    5th to 9th grade|    5th to 9th grade|   other|   other|      home|  mother|         <15 min.| 2 to 5 hours|       0|       no|    no|  no|        no|    yes|   yes|     yes|      no|very good|     high|     high|very low|very low|     good|       0| 12| 12| 11|\n",
      "|    GP|  F| 17|      U|    GT3|      A|    higher education|    higher education|   other| teacher|      home|  mother|    15 to 30 min.| 2 to 5 hours|       0|      yes|   yes|  no|        no|    yes|   yes|      no|      no|very good| very low|     high|very low|very low| very bad|       6|  6|  5|  6|\n",
      "|    GP|  M| 15|      U|    LE3|      A| secondary education|    5th to 9th grade|services|   other|      home|  mother|         <15 min.| 2 to 5 hours|       0|       no|   yes| yes|        no|    yes|   yes|     yes|      no|very good|      low|      low|very low|very low| very bad|       0| 16| 18| 19|\n",
      "|    GP|  M| 15|      U|    GT3|      T| secondary education|    higher education|   other|   other|      home|  mother|         <15 min.| 2 to 5 hours|       0|       no|   yes| yes|       yes|    yes|   yes|     yes|      no|excellent|very high| very low|very low|very low|excellent|       0| 14| 15| 15|\n",
      "|    GP|  F| 15|      U|    GT3|      T|    higher education|    higher education| teacher|  health|reputation|  mother|         <15 min.| 2 to 5 hours|       0|       no|   yes| yes|        no|    yes|   yes|     yes|      no|     good|   medium|   medium|very low|     low|      bad|       0| 10|  8|  9|\n",
      "|    GP|  F| 15|      U|    GT3|      T|    5th to 9th grade|primary education...|services|   other|reputation|  father|30 min. to 1 hour|5 to 10 hours|       0|       no|   yes|  no|       yes|    yes|   yes|     yes|      no|excellent|      low|      low|very low|very low|very good|       4| 10| 12| 12|\n",
      "|    GP|  M| 15|      U|    LE3|      T|    higher education|    higher education|  health|services|    course|  father|         <15 min.|     <2 hours|       0|       no|   yes| yes|       yes|    yes|   yes|     yes|      no|very good|   medium|   medium|very low|  medium|excellent|       2| 14| 14| 14|\n",
      "|    GP|  M| 15|      U|    GT3|      T|    higher education| secondary education| teacher|   other|    course|  mother|    15 to 30 min.| 2 to 5 hours|       0|       no|   yes| yes|        no|    yes|   yes|     yes|      no|excellent|     high|   medium|very low|     low|     good|       2| 10| 10| 11|\n",
      "|    GP|  M| 15|      U|    GT3|      A|    5th to 9th grade|    5th to 9th grade|   other|   other|      home|   other|         <15 min.|5 to 10 hours|       0|       no|   yes|  no|        no|    yes|   yes|     yes|     yes|very good|very high|      low|very low|very low|     good|       0| 14| 16| 16|\n",
      "|    GP|  F| 16|      U|    GT3|      T|    higher education|    higher education|  health|   other|      home|  mother|         <15 min.|     <2 hours|       0|       no|   yes|  no|        no|    yes|   yes|     yes|      no|very good|     high|     high|very low|     low|      bad|       4| 14| 14| 14|\n",
      "|    GP|  F| 16|      U|    GT3|      T|    higher education|    higher education|services|services|reputation|  mother|         <15 min.|5 to 10 hours|       0|       no|   yes| yes|       yes|    yes|   yes|     yes|      no|     good|      low|   medium|very low|     low|      bad|       6| 13| 14| 14|\n",
      "|    GP|  F| 16|      U|    GT3|      T| secondary education| secondary education|   other|   other|reputation|  mother|30 min. to 1 hour| 2 to 5 hours|       0|      yes|   yes|  no|       yes|    yes|   yes|      no|      no|excellent|   medium|      low|very low|very low|very good|       4|  8| 10| 10|\n",
      "|    GP|  M| 17|      U|    GT3|      T| secondary education|    5th to 9th grade|services|services|    course|  mother|         <15 min.|     <2 hours|       3|       no|   yes|  no|       yes|    yes|   yes|     yes|      no|excellent|very high|very high|     low|    high|excellent|      16|  6|  5|  5|\n",
      "|    GP|  M| 16|      U|    LE3|      T|    higher education| secondary education|  health|   other|      home|  father|         <15 min.|     <2 hours|       0|       no|    no| yes|       yes|    yes|   yes|     yes|      no|     good| very low|   medium|very low|  medium|excellent|       4|  8| 10| 10|\n",
      "+------+---+---+-------+-------+-------+--------------------+--------------------+--------+--------+----------+--------+-----------------+-------------+--------+---------+------+----+----------+-------+------+--------+--------+---------+---------+---------+--------+--------+---------+--------+---+---+---+\n",
      "only showing top 20 rows\n",
      "\n"
     ]
    },
    {
     "name": "stderr",
     "output_type": "stream",
     "text": [
      "24/07/11 01:48:17 WARN GarbageCollectionMetrics: To enable non-built-in garbage collector(s) List(G1 Concurrent GC), users should configure it(them) to spark.eventLog.gcMetrics.youngGenerationGarbageCollectors or spark.eventLog.gcMetrics.oldGenerationGarbageCollectors\n"
     ]
    }
   ],
   "source": [
    "\n",
    "df.na.drop(how='all').show()"
   ]
  },
  {
   "cell_type": "code",
   "execution_count": 11,
   "metadata": {},
   "outputs": [
    {
     "name": "stderr",
     "output_type": "stream",
     "text": [
      "[Stage 7:>                                                          (0 + 1) / 1]\r"
     ]
    },
    {
     "name": "stdout",
     "output_type": "stream",
     "text": [
      "+-------+------+----+------------------+-------+-------+-------+-------------------+-------------------+-------+-------+----------+--------+-------------+------------+------------------+---------+------+----+----------+-------+------+--------+--------+---------+--------+--------+--------+--------+---------+-----------------+------------------+------------------+------------------+\n",
      "|summary|school| sex|               age|address|famsize|Pstatus|               Medu|               Fedu|   Mjob|   Fjob|    reason|guardian|   traveltime|   studytime|          failures|schoolsup|famsup|paid|activities|nursery|higher|internet|romantic|   famrel|freetime|   goout|    Dalc|    Walc|   health|         absences|                G1|                G2|                G3|\n",
      "+-------+------+----+------------------+-------+-------+-------+-------------------+-------------------+-------+-------+----------+--------+-------------+------------+------------------+---------+------+----+----------+-------+------+--------+--------+---------+--------+--------+--------+--------+---------+-----------------+------------------+------------------+------------------+\n",
      "|  count|   395| 395|               395|    395|    395|    395|                395|                395|    395|    395|       395|     395|          395|         395|               395|      395|   395| 395|       395|    395|   395|     395|     395|      395|     395|     395|     395|     395|      395|              395|               395|               395|               395|\n",
      "|   mean|  NULL|NULL|16.696202531645568|   NULL|   NULL|   NULL|               NULL|               NULL|   NULL|   NULL|      NULL|    NULL|         NULL|        NULL|0.3341772151898734|     NULL|  NULL|NULL|      NULL|   NULL|  NULL|    NULL|    NULL|     NULL|    NULL|    NULL|    NULL|    NULL|     NULL|5.708860759493671| 10.90886075949367|10.713924050632912|10.415189873417722|\n",
      "| stddev|  NULL|NULL|1.2760427246056265|   NULL|   NULL|   NULL|               NULL|               NULL|   NULL|   NULL|      NULL|    NULL|         NULL|        NULL|0.7436509736062509|     NULL|  NULL|NULL|      NULL|   NULL|  NULL|    NULL|    NULL|     NULL|    NULL|    NULL|    NULL|    NULL|     NULL|8.003095687108182|3.3191946715076686|3.7615046595560306|4.5814426109978434|\n",
      "|    min|    GP|   F|                15|      R|    GT3|      A|   5th to 9th grade|   5th to 9th grade|at_home|at_home|    course|  father|15 to 30 min.|2 to 5 hours|                 0|       no|    no|  no|        no|     no|    no|      no|      no|      bad|    high|    high|    high|    high|      bad|                0|                 3|                 0|                 0|\n",
      "|    max|    MS|   M|                22|      U|    LE3|      T|secondary education|secondary education|teacher|teacher|reputation|   other|      >1 hour|   >10 hours|                 3|      yes|   yes| yes|       yes|    yes|   yes|     yes|     yes|very good|very low|very low|very low|very low|very good|               75|                19|                19|                20|\n",
      "+-------+------+----+------------------+-------+-------+-------+-------------------+-------------------+-------+-------+----------+--------+-------------+------------+------------------+---------+------+----+----------+-------+------+--------+--------+---------+--------+--------+--------+--------+---------+-----------------+------------------+------------------+------------------+\n",
      "\n"
     ]
    },
    {
     "name": "stderr",
     "output_type": "stream",
     "text": [
      "                                                                                \r"
     ]
    }
   ],
   "source": [
    "df.describe().show()"
   ]
  },
  {
   "cell_type": "code",
   "execution_count": null,
   "metadata": {},
   "outputs": [],
   "source": []
  }
 ],
 "metadata": {
  "kernelspec": {
   "display_name": "Python 3",
   "language": "python",
   "name": "python3"
  },
  "language_info": {
   "codemirror_mode": {
    "name": "ipython",
    "version": 3
   },
   "file_extension": ".py",
   "mimetype": "text/x-python",
   "name": "python",
   "nbconvert_exporter": "python",
   "pygments_lexer": "ipython3",
   "version": "3.11.9"
  }
 },
 "nbformat": 4,
 "nbformat_minor": 2
}
