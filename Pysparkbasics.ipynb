{
 "cells": [
  {
   "cell_type": "code",
   "execution_count": 1,
   "metadata": {},
   "outputs": [
    {
     "name": "stdout",
     "output_type": "stream",
     "text": [
      "Collecting pyspark\n",
      "  Downloading pyspark-3.5.1.tar.gz (317.0 MB)\n",
      "\u001b[2K     \u001b[90m━━━━━━━━━━━━━━━━━━━━━━━━━━━━━━━━━━━━━━━\u001b[0m \u001b[32m317.0/317.0 MB\u001b[0m \u001b[31m7.0 MB/s\u001b[0m eta \u001b[36m0:00:00\u001b[0m00:01\u001b[0m00:01\u001b[0m\n",
      "\u001b[?25h  Preparing metadata (setup.py) ... \u001b[?25ldone\n",
      "\u001b[?25hCollecting py4j==0.10.9.7 (from pyspark)\n",
      "  Downloading py4j-0.10.9.7-py2.py3-none-any.whl.metadata (1.5 kB)\n",
      "Downloading py4j-0.10.9.7-py2.py3-none-any.whl (200 kB)\n",
      "\u001b[2K   \u001b[90m━━━━━━━━━━━━━━━━━━━━━━━━━━━━━━━━━━━━━━━━\u001b[0m \u001b[32m200.5/200.5 kB\u001b[0m \u001b[31m5.7 MB/s\u001b[0m eta \u001b[36m0:00:00\u001b[0m\n",
      "\u001b[?25hBuilding wheels for collected packages: pyspark\n",
      "  Building wheel for pyspark (setup.py) ... \u001b[?25ldone\n",
      "\u001b[?25h  Created wheel for pyspark: filename=pyspark-3.5.1-py2.py3-none-any.whl size=317488491 sha256=499c0ce21647f58a9d4f37789ddb9a7b235053ece72456c63fd6bca923f35efd\n",
      "  Stored in directory: /home/codespace/.cache/pip/wheels/95/13/41/f7f135ee114175605fb4f0a89e7389f3742aa6c1e1a5bcb657\n",
      "Successfully built pyspark\n",
      "Installing collected packages: py4j, pyspark\n",
      "Successfully installed py4j-0.10.9.7 pyspark-3.5.1\n"
     ]
    }
   ],
   "source": [
    "! pip install pyspark"
   ]
  },
  {
   "cell_type": "code",
   "execution_count": 1,
   "metadata": {},
   "outputs": [],
   "source": [
    "from pyspark.sql import SparkSession"
   ]
  },
  {
   "cell_type": "code",
   "execution_count": 4,
   "metadata": {},
   "outputs": [
    {
     "data": {
      "text/html": [
       "\n",
       "            <div>\n",
       "                <p><b>SparkSession - in-memory</b></p>\n",
       "                \n",
       "        <div>\n",
       "            <p><b>SparkContext</b></p>\n",
       "\n",
       "            <p><a href=\"http://17a354d8-1a2b-4968-9f12-06aa6a503c31.internal.cloudapp.net:4040\">Spark UI</a></p>\n",
       "\n",
       "            <dl>\n",
       "              <dt>Version</dt>\n",
       "                <dd><code>v3.5.1</code></dd>\n",
       "              <dt>Master</dt>\n",
       "                <dd><code>local[*]</code></dd>\n",
       "              <dt>AppName</dt>\n",
       "                <dd><code>Spark Basics</code></dd>\n",
       "            </dl>\n",
       "        </div>\n",
       "        \n",
       "            </div>\n",
       "        "
      ],
      "text/plain": [
       "<pyspark.sql.session.SparkSession at 0x74f782dac750>"
      ]
     },
     "execution_count": 4,
     "metadata": {},
     "output_type": "execute_result"
    }
   ],
   "source": [
    "spark"
   ]
  },
  {
   "cell_type": "code",
   "execution_count": 5,
   "metadata": {},
   "outputs": [],
   "source": [
    "df = spark.read.csv('student.csv' , header=True , inferSchema=True)"
   ]
  },
  {
   "cell_type": "code",
   "execution_count": 6,
   "metadata": {},
   "outputs": [
    {
     "data": {
      "text/plain": [
       "DataFrame[school: string, sex: string, age: int, address: string, famsize: string, Pstatus: string, Medu: string, Fedu: string, Mjob: string, Fjob: string, reason: string, guardian: string, traveltime: string, studytime: string, failures: int, schoolsup: string, famsup: string, paid: string, activities: string, nursery: string, higher: string, internet: string, romantic: string, famrel: string, freetime: string, goout: string, Dalc: string, Walc: string, health: string, absences: int, G1: int, G2: int, G3: int]"
      ]
     },
     "execution_count": 6,
     "metadata": {},
     "output_type": "execute_result"
    }
   ],
   "source": [
    "df"
   ]
  },
  {
   "cell_type": "code",
   "execution_count": 7,
   "metadata": {},
   "outputs": [
    {
     "name": "stdout",
     "output_type": "stream",
     "text": [
      "root\n",
      " |-- school: string (nullable = true)\n",
      " |-- sex: string (nullable = true)\n",
      " |-- age: integer (nullable = true)\n",
      " |-- address: string (nullable = true)\n",
      " |-- famsize: string (nullable = true)\n",
      " |-- Pstatus: string (nullable = true)\n",
      " |-- Medu: string (nullable = true)\n",
      " |-- Fedu: string (nullable = true)\n",
      " |-- Mjob: string (nullable = true)\n",
      " |-- Fjob: string (nullable = true)\n",
      " |-- reason: string (nullable = true)\n",
      " |-- guardian: string (nullable = true)\n",
      " |-- traveltime: string (nullable = true)\n",
      " |-- studytime: string (nullable = true)\n",
      " |-- failures: integer (nullable = true)\n",
      " |-- schoolsup: string (nullable = true)\n",
      " |-- famsup: string (nullable = true)\n",
      " |-- paid: string (nullable = true)\n",
      " |-- activities: string (nullable = true)\n",
      " |-- nursery: string (nullable = true)\n",
      " |-- higher: string (nullable = true)\n",
      " |-- internet: string (nullable = true)\n",
      " |-- romantic: string (nullable = true)\n",
      " |-- famrel: string (nullable = true)\n",
      " |-- freetime: string (nullable = true)\n",
      " |-- goout: string (nullable = true)\n",
      " |-- Dalc: string (nullable = true)\n",
      " |-- Walc: string (nullable = true)\n",
      " |-- health: string (nullable = true)\n",
      " |-- absences: integer (nullable = true)\n",
      " |-- G1: integer (nullable = true)\n",
      " |-- G2: integer (nullable = true)\n",
      " |-- G3: integer (nullable = true)\n",
      "\n"
     ]
    }
   ],
   "source": [
    "df.printSchema()"
   ]
  },
  {
   "cell_type": "code",
   "execution_count": 8,
   "metadata": {},
   "outputs": [
    {
     "name": "stderr",
     "output_type": "stream",
     "text": [
      "24/07/18 08:15:07 WARN SparkStringUtils: Truncated the string representation of a plan since it was too large. This behavior can be adjusted by setting 'spark.sql.debug.maxToStringFields'.\n"
     ]
    },
    {
     "name": "stdout",
     "output_type": "stream",
     "text": [
      "+------+---+---+-------+-------+-------+--------------------+--------------------+--------+--------+----------+--------+-----------------+-------------+--------+---------+------+----+----------+-------+------+--------+--------+---------+---------+---------+--------+--------+---------+--------+---+---+---+\n",
      "|school|sex|age|address|famsize|Pstatus|                Medu|                Fedu|    Mjob|    Fjob|    reason|guardian|       traveltime|    studytime|failures|schoolsup|famsup|paid|activities|nursery|higher|internet|romantic|   famrel| freetime|    goout|    Dalc|    Walc|   health|absences| G1| G2| G3|\n",
      "+------+---+---+-------+-------+-------+--------------------+--------------------+--------+--------+----------+--------+-----------------+-------------+--------+---------+------+----+----------+-------+------+--------+--------+---------+---------+---------+--------+--------+---------+--------+---+---+---+\n",
      "|    GP|  F| 18|      U|    GT3|      A|    higher education|    higher education| at_home| teacher|    course|  mother|    15 to 30 min.| 2 to 5 hours|       0|      yes|    no|  no|        no|    yes|   yes|      no|      no|very good|   medium|     high|very low|very low|     good|       6|  5|  6|  6|\n",
      "|    GP|  F| 17|      U|    GT3|      T|primary education...|primary education...| at_home|   other|    course|  father|         <15 min.| 2 to 5 hours|       0|       no|   yes|  no|        no|     no|   yes|     yes|      no|excellent|   medium|   medium|very low|very low|     good|       4|  5|  5|  6|\n",
      "|    GP|  F| 15|      U|    LE3|      T|primary education...|primary education...| at_home|   other|     other|  mother|         <15 min.| 2 to 5 hours|       3|      yes|    no| yes|        no|    yes|   yes|     yes|      no|very good|   medium|      low|     low|  medium|     good|      10|  7|  8| 10|\n",
      "|    GP|  F| 15|      U|    GT3|      T|    higher education|    5th to 9th grade|  health|services|      home|  mother|         <15 min.|5 to 10 hours|       0|       no|   yes| yes|       yes|    yes|   yes|     yes|     yes|     good|      low|      low|very low|very low|excellent|       2| 15| 14| 15|\n",
      "|    GP|  F| 16|      U|    GT3|      T| secondary education| secondary education|   other|   other|      home|  father|         <15 min.| 2 to 5 hours|       0|       no|   yes| yes|        no|    yes|   yes|      no|      no|very good|   medium|      low|very low|     low|excellent|       4|  6| 10| 10|\n",
      "|    GP|  M| 16|      U|    LE3|      T|    higher education| secondary education|services|   other|reputation|  mother|         <15 min.| 2 to 5 hours|       0|       no|   yes| yes|       yes|    yes|   yes|     yes|      no|excellent|     high|      low|very low|     low|excellent|      10| 15| 15| 15|\n",
      "|    GP|  M| 16|      U|    LE3|      T|    5th to 9th grade|    5th to 9th grade|   other|   other|      home|  mother|         <15 min.| 2 to 5 hours|       0|       no|    no|  no|        no|    yes|   yes|     yes|      no|very good|     high|     high|very low|very low|     good|       0| 12| 12| 11|\n",
      "|    GP|  F| 17|      U|    GT3|      A|    higher education|    higher education|   other| teacher|      home|  mother|    15 to 30 min.| 2 to 5 hours|       0|      yes|   yes|  no|        no|    yes|   yes|      no|      no|very good| very low|     high|very low|very low| very bad|       6|  6|  5|  6|\n",
      "|    GP|  M| 15|      U|    LE3|      A| secondary education|    5th to 9th grade|services|   other|      home|  mother|         <15 min.| 2 to 5 hours|       0|       no|   yes| yes|        no|    yes|   yes|     yes|      no|very good|      low|      low|very low|very low| very bad|       0| 16| 18| 19|\n",
      "|    GP|  M| 15|      U|    GT3|      T| secondary education|    higher education|   other|   other|      home|  mother|         <15 min.| 2 to 5 hours|       0|       no|   yes| yes|       yes|    yes|   yes|     yes|      no|excellent|very high| very low|very low|very low|excellent|       0| 14| 15| 15|\n",
      "|    GP|  F| 15|      U|    GT3|      T|    higher education|    higher education| teacher|  health|reputation|  mother|         <15 min.| 2 to 5 hours|       0|       no|   yes| yes|        no|    yes|   yes|     yes|      no|     good|   medium|   medium|very low|     low|      bad|       0| 10|  8|  9|\n",
      "|    GP|  F| 15|      U|    GT3|      T|    5th to 9th grade|primary education...|services|   other|reputation|  father|30 min. to 1 hour|5 to 10 hours|       0|       no|   yes|  no|       yes|    yes|   yes|     yes|      no|excellent|      low|      low|very low|very low|very good|       4| 10| 12| 12|\n",
      "|    GP|  M| 15|      U|    LE3|      T|    higher education|    higher education|  health|services|    course|  father|         <15 min.|     <2 hours|       0|       no|   yes| yes|       yes|    yes|   yes|     yes|      no|very good|   medium|   medium|very low|  medium|excellent|       2| 14| 14| 14|\n",
      "|    GP|  M| 15|      U|    GT3|      T|    higher education| secondary education| teacher|   other|    course|  mother|    15 to 30 min.| 2 to 5 hours|       0|       no|   yes| yes|        no|    yes|   yes|     yes|      no|excellent|     high|   medium|very low|     low|     good|       2| 10| 10| 11|\n",
      "|    GP|  M| 15|      U|    GT3|      A|    5th to 9th grade|    5th to 9th grade|   other|   other|      home|   other|         <15 min.|5 to 10 hours|       0|       no|   yes|  no|        no|    yes|   yes|     yes|     yes|very good|very high|      low|very low|very low|     good|       0| 14| 16| 16|\n",
      "|    GP|  F| 16|      U|    GT3|      T|    higher education|    higher education|  health|   other|      home|  mother|         <15 min.|     <2 hours|       0|       no|   yes|  no|        no|    yes|   yes|     yes|      no|very good|     high|     high|very low|     low|      bad|       4| 14| 14| 14|\n",
      "|    GP|  F| 16|      U|    GT3|      T|    higher education|    higher education|services|services|reputation|  mother|         <15 min.|5 to 10 hours|       0|       no|   yes| yes|       yes|    yes|   yes|     yes|      no|     good|      low|   medium|very low|     low|      bad|       6| 13| 14| 14|\n",
      "|    GP|  F| 16|      U|    GT3|      T| secondary education| secondary education|   other|   other|reputation|  mother|30 min. to 1 hour| 2 to 5 hours|       0|      yes|   yes|  no|       yes|    yes|   yes|      no|      no|excellent|   medium|      low|very low|very low|very good|       4|  8| 10| 10|\n",
      "|    GP|  M| 17|      U|    GT3|      T| secondary education|    5th to 9th grade|services|services|    course|  mother|         <15 min.|     <2 hours|       3|       no|   yes|  no|       yes|    yes|   yes|     yes|      no|excellent|very high|very high|     low|    high|excellent|      16|  6|  5|  5|\n",
      "|    GP|  M| 16|      U|    LE3|      T|    higher education| secondary education|  health|   other|      home|  father|         <15 min.|     <2 hours|       0|       no|    no| yes|       yes|    yes|   yes|     yes|      no|     good| very low|   medium|very low|  medium|excellent|       4|  8| 10| 10|\n",
      "+------+---+---+-------+-------+-------+--------------------+--------------------+--------+--------+----------+--------+-----------------+-------------+--------+---------+------+----+----------+-------+------+--------+--------+---------+---------+---------+--------+--------+---------+--------+---+---+---+\n",
      "only showing top 20 rows\n",
      "\n"
     ]
    }
   ],
   "source": [
    "# Drop the rows with missing values\n",
    "df.na.drop().show()"
   ]
  },
  {
   "cell_type": "code",
   "execution_count": 9,
   "metadata": {},
   "outputs": [
    {
     "name": "stdout",
     "output_type": "stream",
     "text": [
      "+------+---+---+-------+-------+-------+--------------------+--------------------+--------+--------+----------+--------+-----------------+-------------+--------+---------+------+----+----------+-------+------+--------+--------+---------+---------+---------+--------+--------+---------+--------+---+---+---+\n",
      "|school|sex|age|address|famsize|Pstatus|                Medu|                Fedu|    Mjob|    Fjob|    reason|guardian|       traveltime|    studytime|failures|schoolsup|famsup|paid|activities|nursery|higher|internet|romantic|   famrel| freetime|    goout|    Dalc|    Walc|   health|absences| G1| G2| G3|\n",
      "+------+---+---+-------+-------+-------+--------------------+--------------------+--------+--------+----------+--------+-----------------+-------------+--------+---------+------+----+----------+-------+------+--------+--------+---------+---------+---------+--------+--------+---------+--------+---+---+---+\n",
      "|    GP|  F| 18|      U|    GT3|      A|    higher education|    higher education| at_home| teacher|    course|  mother|    15 to 30 min.| 2 to 5 hours|       0|      yes|    no|  no|        no|    yes|   yes|      no|      no|very good|   medium|     high|very low|very low|     good|       6|  5|  6|  6|\n",
      "|    GP|  F| 17|      U|    GT3|      T|primary education...|primary education...| at_home|   other|    course|  father|         <15 min.| 2 to 5 hours|       0|       no|   yes|  no|        no|     no|   yes|     yes|      no|excellent|   medium|   medium|very low|very low|     good|       4|  5|  5|  6|\n",
      "|    GP|  F| 15|      U|    LE3|      T|primary education...|primary education...| at_home|   other|     other|  mother|         <15 min.| 2 to 5 hours|       3|      yes|    no| yes|        no|    yes|   yes|     yes|      no|very good|   medium|      low|     low|  medium|     good|      10|  7|  8| 10|\n",
      "|    GP|  F| 15|      U|    GT3|      T|    higher education|    5th to 9th grade|  health|services|      home|  mother|         <15 min.|5 to 10 hours|       0|       no|   yes| yes|       yes|    yes|   yes|     yes|     yes|     good|      low|      low|very low|very low|excellent|       2| 15| 14| 15|\n",
      "|    GP|  F| 16|      U|    GT3|      T| secondary education| secondary education|   other|   other|      home|  father|         <15 min.| 2 to 5 hours|       0|       no|   yes| yes|        no|    yes|   yes|      no|      no|very good|   medium|      low|very low|     low|excellent|       4|  6| 10| 10|\n",
      "|    GP|  M| 16|      U|    LE3|      T|    higher education| secondary education|services|   other|reputation|  mother|         <15 min.| 2 to 5 hours|       0|       no|   yes| yes|       yes|    yes|   yes|     yes|      no|excellent|     high|      low|very low|     low|excellent|      10| 15| 15| 15|\n",
      "|    GP|  M| 16|      U|    LE3|      T|    5th to 9th grade|    5th to 9th grade|   other|   other|      home|  mother|         <15 min.| 2 to 5 hours|       0|       no|    no|  no|        no|    yes|   yes|     yes|      no|very good|     high|     high|very low|very low|     good|       0| 12| 12| 11|\n",
      "|    GP|  F| 17|      U|    GT3|      A|    higher education|    higher education|   other| teacher|      home|  mother|    15 to 30 min.| 2 to 5 hours|       0|      yes|   yes|  no|        no|    yes|   yes|      no|      no|very good| very low|     high|very low|very low| very bad|       6|  6|  5|  6|\n",
      "|    GP|  M| 15|      U|    LE3|      A| secondary education|    5th to 9th grade|services|   other|      home|  mother|         <15 min.| 2 to 5 hours|       0|       no|   yes| yes|        no|    yes|   yes|     yes|      no|very good|      low|      low|very low|very low| very bad|       0| 16| 18| 19|\n",
      "|    GP|  M| 15|      U|    GT3|      T| secondary education|    higher education|   other|   other|      home|  mother|         <15 min.| 2 to 5 hours|       0|       no|   yes| yes|       yes|    yes|   yes|     yes|      no|excellent|very high| very low|very low|very low|excellent|       0| 14| 15| 15|\n",
      "|    GP|  F| 15|      U|    GT3|      T|    higher education|    higher education| teacher|  health|reputation|  mother|         <15 min.| 2 to 5 hours|       0|       no|   yes| yes|        no|    yes|   yes|     yes|      no|     good|   medium|   medium|very low|     low|      bad|       0| 10|  8|  9|\n",
      "|    GP|  F| 15|      U|    GT3|      T|    5th to 9th grade|primary education...|services|   other|reputation|  father|30 min. to 1 hour|5 to 10 hours|       0|       no|   yes|  no|       yes|    yes|   yes|     yes|      no|excellent|      low|      low|very low|very low|very good|       4| 10| 12| 12|\n",
      "|    GP|  M| 15|      U|    LE3|      T|    higher education|    higher education|  health|services|    course|  father|         <15 min.|     <2 hours|       0|       no|   yes| yes|       yes|    yes|   yes|     yes|      no|very good|   medium|   medium|very low|  medium|excellent|       2| 14| 14| 14|\n",
      "|    GP|  M| 15|      U|    GT3|      T|    higher education| secondary education| teacher|   other|    course|  mother|    15 to 30 min.| 2 to 5 hours|       0|       no|   yes| yes|        no|    yes|   yes|     yes|      no|excellent|     high|   medium|very low|     low|     good|       2| 10| 10| 11|\n",
      "|    GP|  M| 15|      U|    GT3|      A|    5th to 9th grade|    5th to 9th grade|   other|   other|      home|   other|         <15 min.|5 to 10 hours|       0|       no|   yes|  no|        no|    yes|   yes|     yes|     yes|very good|very high|      low|very low|very low|     good|       0| 14| 16| 16|\n",
      "|    GP|  F| 16|      U|    GT3|      T|    higher education|    higher education|  health|   other|      home|  mother|         <15 min.|     <2 hours|       0|       no|   yes|  no|        no|    yes|   yes|     yes|      no|very good|     high|     high|very low|     low|      bad|       4| 14| 14| 14|\n",
      "|    GP|  F| 16|      U|    GT3|      T|    higher education|    higher education|services|services|reputation|  mother|         <15 min.|5 to 10 hours|       0|       no|   yes| yes|       yes|    yes|   yes|     yes|      no|     good|      low|   medium|very low|     low|      bad|       6| 13| 14| 14|\n",
      "|    GP|  F| 16|      U|    GT3|      T| secondary education| secondary education|   other|   other|reputation|  mother|30 min. to 1 hour| 2 to 5 hours|       0|      yes|   yes|  no|       yes|    yes|   yes|      no|      no|excellent|   medium|      low|very low|very low|very good|       4|  8| 10| 10|\n",
      "|    GP|  M| 17|      U|    GT3|      T| secondary education|    5th to 9th grade|services|services|    course|  mother|         <15 min.|     <2 hours|       3|       no|   yes|  no|       yes|    yes|   yes|     yes|      no|excellent|very high|very high|     low|    high|excellent|      16|  6|  5|  5|\n",
      "|    GP|  M| 16|      U|    LE3|      T|    higher education| secondary education|  health|   other|      home|  father|         <15 min.|     <2 hours|       0|       no|    no| yes|       yes|    yes|   yes|     yes|      no|     good| very low|   medium|very low|  medium|excellent|       4|  8| 10| 10|\n",
      "+------+---+---+-------+-------+-------+--------------------+--------------------+--------+--------+----------+--------+-----------------+-------------+--------+---------+------+----+----------+-------+------+--------+--------+---------+---------+---------+--------+--------+---------+--------+---+---+---+\n",
      "only showing top 20 rows\n",
      "\n"
     ]
    }
   ],
   "source": [
    "df.na.drop(thresh=2).show()"
   ]
  },
  {
   "cell_type": "code",
   "execution_count": 10,
   "metadata": {},
   "outputs": [
    {
     "name": "stdout",
     "output_type": "stream",
     "text": [
      "+------+---+---+-------+-------+-------+--------------------+--------------------+--------+--------+----------+--------+-----------------+-------------+--------+---------+------+----+----------+-------+------+--------+--------+---------+---------+---------+--------+--------+---------+--------+---+---+---+\n",
      "|school|sex|age|address|famsize|Pstatus|                Medu|                Fedu|    Mjob|    Fjob|    reason|guardian|       traveltime|    studytime|failures|schoolsup|famsup|paid|activities|nursery|higher|internet|romantic|   famrel| freetime|    goout|    Dalc|    Walc|   health|absences| G1| G2| G3|\n",
      "+------+---+---+-------+-------+-------+--------------------+--------------------+--------+--------+----------+--------+-----------------+-------------+--------+---------+------+----+----------+-------+------+--------+--------+---------+---------+---------+--------+--------+---------+--------+---+---+---+\n",
      "|    GP|  F| 18|      U|    GT3|      A|    higher education|    higher education| at_home| teacher|    course|  mother|    15 to 30 min.| 2 to 5 hours|       0|      yes|    no|  no|        no|    yes|   yes|      no|      no|very good|   medium|     high|very low|very low|     good|       6|  5|  6|  6|\n",
      "|    GP|  F| 17|      U|    GT3|      T|primary education...|primary education...| at_home|   other|    course|  father|         <15 min.| 2 to 5 hours|       0|       no|   yes|  no|        no|     no|   yes|     yes|      no|excellent|   medium|   medium|very low|very low|     good|       4|  5|  5|  6|\n",
      "|    GP|  F| 15|      U|    LE3|      T|primary education...|primary education...| at_home|   other|     other|  mother|         <15 min.| 2 to 5 hours|       3|      yes|    no| yes|        no|    yes|   yes|     yes|      no|very good|   medium|      low|     low|  medium|     good|      10|  7|  8| 10|\n",
      "|    GP|  F| 15|      U|    GT3|      T|    higher education|    5th to 9th grade|  health|services|      home|  mother|         <15 min.|5 to 10 hours|       0|       no|   yes| yes|       yes|    yes|   yes|     yes|     yes|     good|      low|      low|very low|very low|excellent|       2| 15| 14| 15|\n",
      "|    GP|  F| 16|      U|    GT3|      T| secondary education| secondary education|   other|   other|      home|  father|         <15 min.| 2 to 5 hours|       0|       no|   yes| yes|        no|    yes|   yes|      no|      no|very good|   medium|      low|very low|     low|excellent|       4|  6| 10| 10|\n",
      "|    GP|  M| 16|      U|    LE3|      T|    higher education| secondary education|services|   other|reputation|  mother|         <15 min.| 2 to 5 hours|       0|       no|   yes| yes|       yes|    yes|   yes|     yes|      no|excellent|     high|      low|very low|     low|excellent|      10| 15| 15| 15|\n",
      "|    GP|  M| 16|      U|    LE3|      T|    5th to 9th grade|    5th to 9th grade|   other|   other|      home|  mother|         <15 min.| 2 to 5 hours|       0|       no|    no|  no|        no|    yes|   yes|     yes|      no|very good|     high|     high|very low|very low|     good|       0| 12| 12| 11|\n",
      "|    GP|  F| 17|      U|    GT3|      A|    higher education|    higher education|   other| teacher|      home|  mother|    15 to 30 min.| 2 to 5 hours|       0|      yes|   yes|  no|        no|    yes|   yes|      no|      no|very good| very low|     high|very low|very low| very bad|       6|  6|  5|  6|\n",
      "|    GP|  M| 15|      U|    LE3|      A| secondary education|    5th to 9th grade|services|   other|      home|  mother|         <15 min.| 2 to 5 hours|       0|       no|   yes| yes|        no|    yes|   yes|     yes|      no|very good|      low|      low|very low|very low| very bad|       0| 16| 18| 19|\n",
      "|    GP|  M| 15|      U|    GT3|      T| secondary education|    higher education|   other|   other|      home|  mother|         <15 min.| 2 to 5 hours|       0|       no|   yes| yes|       yes|    yes|   yes|     yes|      no|excellent|very high| very low|very low|very low|excellent|       0| 14| 15| 15|\n",
      "|    GP|  F| 15|      U|    GT3|      T|    higher education|    higher education| teacher|  health|reputation|  mother|         <15 min.| 2 to 5 hours|       0|       no|   yes| yes|        no|    yes|   yes|     yes|      no|     good|   medium|   medium|very low|     low|      bad|       0| 10|  8|  9|\n",
      "|    GP|  F| 15|      U|    GT3|      T|    5th to 9th grade|primary education...|services|   other|reputation|  father|30 min. to 1 hour|5 to 10 hours|       0|       no|   yes|  no|       yes|    yes|   yes|     yes|      no|excellent|      low|      low|very low|very low|very good|       4| 10| 12| 12|\n",
      "|    GP|  M| 15|      U|    LE3|      T|    higher education|    higher education|  health|services|    course|  father|         <15 min.|     <2 hours|       0|       no|   yes| yes|       yes|    yes|   yes|     yes|      no|very good|   medium|   medium|very low|  medium|excellent|       2| 14| 14| 14|\n",
      "|    GP|  M| 15|      U|    GT3|      T|    higher education| secondary education| teacher|   other|    course|  mother|    15 to 30 min.| 2 to 5 hours|       0|       no|   yes| yes|        no|    yes|   yes|     yes|      no|excellent|     high|   medium|very low|     low|     good|       2| 10| 10| 11|\n",
      "|    GP|  M| 15|      U|    GT3|      A|    5th to 9th grade|    5th to 9th grade|   other|   other|      home|   other|         <15 min.|5 to 10 hours|       0|       no|   yes|  no|        no|    yes|   yes|     yes|     yes|very good|very high|      low|very low|very low|     good|       0| 14| 16| 16|\n",
      "|    GP|  F| 16|      U|    GT3|      T|    higher education|    higher education|  health|   other|      home|  mother|         <15 min.|     <2 hours|       0|       no|   yes|  no|        no|    yes|   yes|     yes|      no|very good|     high|     high|very low|     low|      bad|       4| 14| 14| 14|\n",
      "|    GP|  F| 16|      U|    GT3|      T|    higher education|    higher education|services|services|reputation|  mother|         <15 min.|5 to 10 hours|       0|       no|   yes| yes|       yes|    yes|   yes|     yes|      no|     good|      low|   medium|very low|     low|      bad|       6| 13| 14| 14|\n",
      "|    GP|  F| 16|      U|    GT3|      T| secondary education| secondary education|   other|   other|reputation|  mother|30 min. to 1 hour| 2 to 5 hours|       0|      yes|   yes|  no|       yes|    yes|   yes|      no|      no|excellent|   medium|      low|very low|very low|very good|       4|  8| 10| 10|\n",
      "|    GP|  M| 17|      U|    GT3|      T| secondary education|    5th to 9th grade|services|services|    course|  mother|         <15 min.|     <2 hours|       3|       no|   yes|  no|       yes|    yes|   yes|     yes|      no|excellent|very high|very high|     low|    high|excellent|      16|  6|  5|  5|\n",
      "|    GP|  M| 16|      U|    LE3|      T|    higher education| secondary education|  health|   other|      home|  father|         <15 min.|     <2 hours|       0|       no|    no| yes|       yes|    yes|   yes|     yes|      no|     good| very low|   medium|very low|  medium|excellent|       4|  8| 10| 10|\n",
      "+------+---+---+-------+-------+-------+--------------------+--------------------+--------+--------+----------+--------+-----------------+-------------+--------+---------+------+----+----------+-------+------+--------+--------+---------+---------+---------+--------+--------+---------+--------+---+---+---+\n",
      "only showing top 20 rows\n",
      "\n"
     ]
    }
   ],
   "source": [
    "\n",
    "df.na.drop(how='all').show()"
   ]
  },
  {
   "cell_type": "code",
   "execution_count": 11,
   "metadata": {},
   "outputs": [
    {
     "name": "stderr",
     "output_type": "stream",
     "text": [
      "[Stage 7:>                                                          (0 + 1) / 1]\r"
     ]
    },
    {
     "name": "stdout",
     "output_type": "stream",
     "text": [
      "+-------+------+----+------------------+-------+-------+-------+-------------------+-------------------+-------+-------+----------+--------+-------------+------------+------------------+---------+------+----+----------+-------+------+--------+--------+---------+--------+--------+--------+--------+---------+-----------------+------------------+------------------+------------------+\n",
      "|summary|school| sex|               age|address|famsize|Pstatus|               Medu|               Fedu|   Mjob|   Fjob|    reason|guardian|   traveltime|   studytime|          failures|schoolsup|famsup|paid|activities|nursery|higher|internet|romantic|   famrel|freetime|   goout|    Dalc|    Walc|   health|         absences|                G1|                G2|                G3|\n",
      "+-------+------+----+------------------+-------+-------+-------+-------------------+-------------------+-------+-------+----------+--------+-------------+------------+------------------+---------+------+----+----------+-------+------+--------+--------+---------+--------+--------+--------+--------+---------+-----------------+------------------+------------------+------------------+\n",
      "|  count|   395| 395|               395|    395|    395|    395|                395|                395|    395|    395|       395|     395|          395|         395|               395|      395|   395| 395|       395|    395|   395|     395|     395|      395|     395|     395|     395|     395|      395|              395|               395|               395|               395|\n",
      "|   mean|  NULL|NULL|16.696202531645568|   NULL|   NULL|   NULL|               NULL|               NULL|   NULL|   NULL|      NULL|    NULL|         NULL|        NULL|0.3341772151898734|     NULL|  NULL|NULL|      NULL|   NULL|  NULL|    NULL|    NULL|     NULL|    NULL|    NULL|    NULL|    NULL|     NULL|5.708860759493671| 10.90886075949367|10.713924050632912|10.415189873417722|\n",
      "| stddev|  NULL|NULL|1.2760427246056265|   NULL|   NULL|   NULL|               NULL|               NULL|   NULL|   NULL|      NULL|    NULL|         NULL|        NULL|0.7436509736062509|     NULL|  NULL|NULL|      NULL|   NULL|  NULL|    NULL|    NULL|     NULL|    NULL|    NULL|    NULL|    NULL|     NULL|8.003095687108182|3.3191946715076686|3.7615046595560306|4.5814426109978434|\n",
      "|    min|    GP|   F|                15|      R|    GT3|      A|   5th to 9th grade|   5th to 9th grade|at_home|at_home|    course|  father|15 to 30 min.|2 to 5 hours|                 0|       no|    no|  no|        no|     no|    no|      no|      no|      bad|    high|    high|    high|    high|      bad|                0|                 3|                 0|                 0|\n",
      "|    max|    MS|   M|                22|      U|    LE3|      T|secondary education|secondary education|teacher|teacher|reputation|   other|      >1 hour|   >10 hours|                 3|      yes|   yes| yes|       yes|    yes|   yes|     yes|     yes|very good|very low|very low|very low|very low|very good|               75|                19|                19|                20|\n",
      "+-------+------+----+------------------+-------+-------+-------+-------------------+-------------------+-------+-------+----------+--------+-------------+------------+------------------+---------+------+----+----------+-------+------+--------+--------+---------+--------+--------+--------+--------+---------+-----------------+------------------+------------------+------------------+\n",
      "\n"
     ]
    },
    {
     "name": "stderr",
     "output_type": "stream",
     "text": [
      "                                                                                \r"
     ]
    }
   ],
   "source": [
    "df.describe().show()"
   ]
  },
  {
   "cell_type": "code",
   "execution_count": 13,
   "metadata": {},
   "outputs": [],
   "source": [
    "from pyspark.ml.feature import Imputer\n",
    "imputer = Imputer(inputCols=['age'], outputCols=['age']).setStrategy('mean')"
   ]
  },
  {
   "cell_type": "code",
   "execution_count": 20,
   "metadata": {},
   "outputs": [
    {
     "name": "stdout",
     "output_type": "stream",
     "text": [
      "+------+---+---+-------+-------+-------+--------------------+--------------------+--------+--------+----------+--------+-----------------+-------------+--------+---------+------+----+----------+-------+------+--------+--------+---------+---------+---------+--------+--------+---------+--------+---+---+---+\n",
      "|school|sex|age|address|famsize|Pstatus|                Medu|                Fedu|    Mjob|    Fjob|    reason|guardian|       traveltime|    studytime|failures|schoolsup|famsup|paid|activities|nursery|higher|internet|romantic|   famrel| freetime|    goout|    Dalc|    Walc|   health|absences| G1| G2| G3|\n",
      "+------+---+---+-------+-------+-------+--------------------+--------------------+--------+--------+----------+--------+-----------------+-------------+--------+---------+------+----+----------+-------+------+--------+--------+---------+---------+---------+--------+--------+---------+--------+---+---+---+\n",
      "|    GP|  F| 18|      U|    GT3|      A|    higher education|    higher education| at_home| teacher|    course|  mother|    15 to 30 min.| 2 to 5 hours|       0|      yes|    no|  no|        no|    yes|   yes|      no|      no|very good|   medium|     high|very low|very low|     good|       6|  5|  6|  6|\n",
      "|    GP|  F| 17|      U|    GT3|      T|primary education...|primary education...| at_home|   other|    course|  father|         <15 min.| 2 to 5 hours|       0|       no|   yes|  no|        no|     no|   yes|     yes|      no|excellent|   medium|   medium|very low|very low|     good|       4|  5|  5|  6|\n",
      "|    GP|  F| 15|      U|    LE3|      T|primary education...|primary education...| at_home|   other|     other|  mother|         <15 min.| 2 to 5 hours|       3|      yes|    no| yes|        no|    yes|   yes|     yes|      no|very good|   medium|      low|     low|  medium|     good|      10|  7|  8| 10|\n",
      "|    GP|  F| 15|      U|    GT3|      T|    higher education|    5th to 9th grade|  health|services|      home|  mother|         <15 min.|5 to 10 hours|       0|       no|   yes| yes|       yes|    yes|   yes|     yes|     yes|     good|      low|      low|very low|very low|excellent|       2| 15| 14| 15|\n",
      "|    GP|  F| 16|      U|    GT3|      T| secondary education| secondary education|   other|   other|      home|  father|         <15 min.| 2 to 5 hours|       0|       no|   yes| yes|        no|    yes|   yes|      no|      no|very good|   medium|      low|very low|     low|excellent|       4|  6| 10| 10|\n",
      "|    GP|  M| 16|      U|    LE3|      T|    higher education| secondary education|services|   other|reputation|  mother|         <15 min.| 2 to 5 hours|       0|       no|   yes| yes|       yes|    yes|   yes|     yes|      no|excellent|     high|      low|very low|     low|excellent|      10| 15| 15| 15|\n",
      "|    GP|  M| 16|      U|    LE3|      T|    5th to 9th grade|    5th to 9th grade|   other|   other|      home|  mother|         <15 min.| 2 to 5 hours|       0|       no|    no|  no|        no|    yes|   yes|     yes|      no|very good|     high|     high|very low|very low|     good|       0| 12| 12| 11|\n",
      "|    GP|  F| 17|      U|    GT3|      A|    higher education|    higher education|   other| teacher|      home|  mother|    15 to 30 min.| 2 to 5 hours|       0|      yes|   yes|  no|        no|    yes|   yes|      no|      no|very good| very low|     high|very low|very low| very bad|       6|  6|  5|  6|\n",
      "|    GP|  M| 15|      U|    LE3|      A| secondary education|    5th to 9th grade|services|   other|      home|  mother|         <15 min.| 2 to 5 hours|       0|       no|   yes| yes|        no|    yes|   yes|     yes|      no|very good|      low|      low|very low|very low| very bad|       0| 16| 18| 19|\n",
      "|    GP|  M| 15|      U|    GT3|      T| secondary education|    higher education|   other|   other|      home|  mother|         <15 min.| 2 to 5 hours|       0|       no|   yes| yes|       yes|    yes|   yes|     yes|      no|excellent|very high| very low|very low|very low|excellent|       0| 14| 15| 15|\n",
      "|    GP|  F| 15|      U|    GT3|      T|    higher education|    higher education| teacher|  health|reputation|  mother|         <15 min.| 2 to 5 hours|       0|       no|   yes| yes|        no|    yes|   yes|     yes|      no|     good|   medium|   medium|very low|     low|      bad|       0| 10|  8|  9|\n",
      "|    GP|  F| 15|      U|    GT3|      T|    5th to 9th grade|primary education...|services|   other|reputation|  father|30 min. to 1 hour|5 to 10 hours|       0|       no|   yes|  no|       yes|    yes|   yes|     yes|      no|excellent|      low|      low|very low|very low|very good|       4| 10| 12| 12|\n",
      "|    GP|  M| 15|      U|    LE3|      T|    higher education|    higher education|  health|services|    course|  father|         <15 min.|     <2 hours|       0|       no|   yes| yes|       yes|    yes|   yes|     yes|      no|very good|   medium|   medium|very low|  medium|excellent|       2| 14| 14| 14|\n",
      "|    GP|  M| 15|      U|    GT3|      T|    higher education| secondary education| teacher|   other|    course|  mother|    15 to 30 min.| 2 to 5 hours|       0|       no|   yes| yes|        no|    yes|   yes|     yes|      no|excellent|     high|   medium|very low|     low|     good|       2| 10| 10| 11|\n",
      "|    GP|  M| 15|      U|    GT3|      A|    5th to 9th grade|    5th to 9th grade|   other|   other|      home|   other|         <15 min.|5 to 10 hours|       0|       no|   yes|  no|        no|    yes|   yes|     yes|     yes|very good|very high|      low|very low|very low|     good|       0| 14| 16| 16|\n",
      "|    GP|  F| 16|      U|    GT3|      T|    higher education|    higher education|  health|   other|      home|  mother|         <15 min.|     <2 hours|       0|       no|   yes|  no|        no|    yes|   yes|     yes|      no|very good|     high|     high|very low|     low|      bad|       4| 14| 14| 14|\n",
      "|    GP|  F| 16|      U|    GT3|      T|    higher education|    higher education|services|services|reputation|  mother|         <15 min.|5 to 10 hours|       0|       no|   yes| yes|       yes|    yes|   yes|     yes|      no|     good|      low|   medium|very low|     low|      bad|       6| 13| 14| 14|\n",
      "|    GP|  F| 16|      U|    GT3|      T| secondary education| secondary education|   other|   other|reputation|  mother|30 min. to 1 hour| 2 to 5 hours|       0|      yes|   yes|  no|       yes|    yes|   yes|      no|      no|excellent|   medium|      low|very low|very low|very good|       4|  8| 10| 10|\n",
      "|    GP|  M| 17|      U|    GT3|      T| secondary education|    5th to 9th grade|services|services|    course|  mother|         <15 min.|     <2 hours|       3|       no|   yes|  no|       yes|    yes|   yes|     yes|      no|excellent|very high|very high|     low|    high|excellent|      16|  6|  5|  5|\n",
      "|    GP|  M| 16|      U|    LE3|      T|    higher education| secondary education|  health|   other|      home|  father|         <15 min.|     <2 hours|       0|       no|    no| yes|       yes|    yes|   yes|     yes|      no|     good| very low|   medium|very low|  medium|excellent|       4|  8| 10| 10|\n",
      "+------+---+---+-------+-------+-------+--------------------+--------------------+--------+--------+----------+--------+-----------------+-------------+--------+---------+------+----+----------+-------+------+--------+--------+---------+---------+---------+--------+--------+---------+--------+---+---+---+\n",
      "only showing top 20 rows\n",
      "\n"
     ]
    }
   ],
   "source": [
    "imputer.fit(df).transform(df).show()"
   ]
  },
  {
   "cell_type": "markdown",
   "metadata": {},
   "source": [
    "## Filters"
   ]
  },
  {
   "cell_type": "code",
   "execution_count": 21,
   "metadata": {},
   "outputs": [
    {
     "name": "stdout",
     "output_type": "stream",
     "text": [
      "+------+---+---+-------+-------+-------+--------------------+--------------------+--------+--------+------+--------+----------+---------+--------+---------+------+----+----------+-------+------+--------+--------+---------+---------+---------+---------+---------+--------+--------+---+---+---+\n",
      "|school|sex|age|address|famsize|Pstatus|                Medu|                Fedu|    Mjob|    Fjob|reason|guardian|traveltime|studytime|failures|schoolsup|famsup|paid|activities|nursery|higher|internet|romantic|   famrel| freetime|    goout|     Dalc|     Walc|  health|absences| G1| G2| G3|\n",
      "+------+---+---+-------+-------+-------+--------------------+--------------------+--------+--------+------+--------+----------+---------+--------+---------+------+----+----------+-------+------+--------+--------+---------+---------+---------+---------+---------+--------+--------+---+---+---+\n",
      "|    GP|  M| 22|      U|    GT3|      T| secondary education|primary education...|services|services| other|  mother|  <15 min.| <2 hours|       3|       no|    no|  no|        no|     no|    no|     yes|     yes|excellent|     high|very high|very high|very high|very bad|      16|  6|  8|  8|\n",
      "|    MS|  M| 21|      R|    GT3|      T|primary education...|primary education...|   other|   other|course|   other|  <15 min.| <2 hours|       3|       no|    no|  no|        no|     no|   yes|      no|      no|excellent|very high|   medium|   medium|   medium|    good|       3| 10|  8|  7|\n",
      "+------+---+---+-------+-------+-------+--------------------+--------------------+--------+--------+------+--------+----------+---------+--------+---------+------+----+----------+-------+------+--------+--------+---------+---------+---------+---------+---------+--------+--------+---+---+---+\n",
      "\n"
     ]
    }
   ],
   "source": [
    "df.filter(df['age'] > 20).show()"
   ]
  },
  {
   "cell_type": "code",
   "execution_count": 22,
   "metadata": {},
   "outputs": [
    {
     "name": "stdout",
     "output_type": "stream",
     "text": [
      "+------+---+---+-------+-------+-------+--------------------+--------------------+--------+--------+------+--------+----------+---------+--------+---------+------+----+----------+-------+------+--------+--------+---------+---------+---------+---------+---------+--------+--------+---+---+---+\n",
      "|school|sex|age|address|famsize|Pstatus|                Medu|                Fedu|    Mjob|    Fjob|reason|guardian|traveltime|studytime|failures|schoolsup|famsup|paid|activities|nursery|higher|internet|romantic|   famrel| freetime|    goout|     Dalc|     Walc|  health|absences| G1| G2| G3|\n",
      "+------+---+---+-------+-------+-------+--------------------+--------------------+--------+--------+------+--------+----------+---------+--------+---------+------+----+----------+-------+------+--------+--------+---------+---------+---------+---------+---------+--------+--------+---+---+---+\n",
      "|    GP|  M| 22|      U|    GT3|      T| secondary education|primary education...|services|services| other|  mother|  <15 min.| <2 hours|       3|       no|    no|  no|        no|     no|    no|     yes|     yes|excellent|     high|very high|very high|very high|very bad|      16|  6|  8|  8|\n",
      "|    MS|  M| 21|      R|    GT3|      T|primary education...|primary education...|   other|   other|course|   other|  <15 min.| <2 hours|       3|       no|    no|  no|        no|     no|   yes|      no|      no|excellent|very high|   medium|   medium|   medium|    good|       3| 10|  8|  7|\n",
      "+------+---+---+-------+-------+-------+--------------------+--------------------+--------+--------+------+--------+----------+---------+--------+---------+------+----+----------+-------+------+--------+--------+---------+---------+---------+---------+---------+--------+--------+---+---+---+\n",
      "\n"
     ]
    }
   ],
   "source": [
    "df.filter((df['age'] > 20) & (df['age'] < 30)).show()"
   ]
  },
  {
   "cell_type": "markdown",
   "metadata": {},
   "source": [
    "## RDD"
   ]
  },
  {
   "cell_type": "code",
   "execution_count": 25,
   "metadata": {},
   "outputs": [],
   "source": [
    "data = [(\"John\", 25), (\"Anna\", 22), (\"Mike\", 30)]\n",
    "rdd = spark.sparkContext.parallelize(data)"
   ]
  },
  {
   "cell_type": "code",
   "execution_count": 33,
   "metadata": {},
   "outputs": [],
   "source": [
    "rdd = spark.sparkContext.textFile('student.csv')"
   ]
  },
  {
   "cell_type": "code",
   "execution_count": 3,
   "metadata": {},
   "outputs": [],
   "source": [
    "import pyspark"
   ]
  },
  {
   "cell_type": "code",
   "execution_count": 32,
   "metadata": {},
   "outputs": [],
   "source": [
    "result = rdd.map(lambda x: x.split(',')).map(lambda x: (x[0], x[1], x[2]))  # Split each line and convert to tuple"
   ]
  },
  {
   "cell_type": "markdown",
   "metadata": {},
   "source": [
    "This line of code is written in Python and uses the PySpark library. Let's break it down step by step:\n",
    "\n",
    "1. [`rdd`](command:_github.copilot.openSymbolFromReferences?%5B%7B%22%24mid%22%3A1%2C%22fsPath%22%3A%22%2Fworkspaces%2FLearning-Pyspark%2FPysparkbasics.ipynb%22%2C%22path%22%3A%22%2Fworkspaces%2FLearning-Pyspark%2FPysparkbasics.ipynb%22%2C%22scheme%22%3A%22vscode-notebook-cell%22%2C%22authority%22%3A%22codespaces%2Bsolid-umbrella-66wrqw4rwx9f4xrv%22%2C%22fragment%22%3A%22X26sdnNjb2RlLXJlbW90ZQ%3D%3D%22%7D%2C%7B%22line%22%3A0%2C%22character%22%3A0%7D%5D \"/workspaces/Learning-Pyspark/Pysparkbasics.ipynb\") is an RDD (Resilient Distributed Dataset) object in PySpark. RDD is a fundamental data structure in PySpark that represents a distributed collection of elements. It can be thought of as an immutable distributed list.\n",
    "\n",
    "2. The `map()` function is called on the RDD object [`rdd`](command:_github.copilot.openSymbolFromReferences?%5B%7B%22%24mid%22%3A1%2C%22fsPath%22%3A%22%2Fworkspaces%2FLearning-Pyspark%2FPysparkbasics.ipynb%22%2C%22path%22%3A%22%2Fworkspaces%2FLearning-Pyspark%2FPysparkbasics.ipynb%22%2C%22scheme%22%3A%22vscode-notebook-cell%22%2C%22authority%22%3A%22codespaces%2Bsolid-umbrella-66wrqw4rwx9f4xrv%22%2C%22fragment%22%3A%22X26sdnNjb2RlLXJlbW90ZQ%3D%3D%22%7D%2C%7B%22line%22%3A0%2C%22character%22%3A0%7D%5D \"/workspaces/Learning-Pyspark/Pysparkbasics.ipynb\"). The `map()` function is a transformation operation in PySpark that applies a given function to each element of the RDD and returns a new RDD with the transformed elements.\n",
    "\n",
    "3. The lambda function [`lambda x: x.split(',')`](command:_github.copilot.openSymbolFromReferences?%5B%7B%22%24mid%22%3A1%2C%22fsPath%22%3A%22%2Fworkspaces%2FLearning-Pyspark%2FPysparkbasics.ipynb%22%2C%22path%22%3A%22%2Fworkspaces%2FLearning-Pyspark%2FPysparkbasics.ipynb%22%2C%22scheme%22%3A%22vscode-notebook-cell%22%2C%22authority%22%3A%22codespaces%2Bsolid-umbrella-66wrqw4rwx9f4xrv%22%2C%22fragment%22%3A%22X26sdnNjb2RlLXJlbW90ZQ%3D%3D%22%7D%2C%7B%22line%22%3A1%2C%22character%22%3A24%7D%5D \"/workspaces/Learning-Pyspark/Pysparkbasics.ipynb\") is passed as an argument to the first `map()` function. This lambda function takes an input [`x`](command:_github.copilot.openSymbolFromReferences?%5B%7B%22%24mid%22%3A1%2C%22fsPath%22%3A%22%2Fworkspaces%2FLearning-Pyspark%2FPysparkbasics.ipynb%22%2C%22path%22%3A%22%2Fworkspaces%2FLearning-Pyspark%2FPysparkbasics.ipynb%22%2C%22scheme%22%3A%22vscode-notebook-cell%22%2C%22authority%22%3A%22codespaces%2Bsolid-umbrella-66wrqw4rwx9f4xrv%22%2C%22fragment%22%3A%22X26sdnNjb2RlLXJlbW90ZQ%3D%3D%22%7D%2C%7B%22line%22%3A1%2C%22character%22%3A24%7D%5D \"/workspaces/Learning-Pyspark/Pysparkbasics.ipynb\") (which represents each element of the RDD) and splits it using the comma (',') delimiter. The `split()` function splits a string into a list of substrings based on the specified delimiter.\n",
    "\n",
    "4. The first `map()` function splits each element of the RDD into a list of substrings.\n",
    "\n",
    "5. The second `map()` function is called on the RDD returned by the first `map()` function. It takes another lambda function [`lambda x: (x[0], x[1], x[2])`](command:_github.copilot.openSymbolFromReferences?%5B%7B%22%24mid%22%3A1%2C%22fsPath%22%3A%22%2Fworkspaces%2FLearning-Pyspark%2FPysparkbasics.ipynb%22%2C%22path%22%3A%22%2Fworkspaces%2FLearning-Pyspark%2FPysparkbasics.ipynb%22%2C%22scheme%22%3A%22vscode-notebook-cell%22%2C%22authority%22%3A%22codespaces%2Bsolid-umbrella-66wrqw4rwx9f4xrv%22%2C%22fragment%22%3A%22X26sdnNjb2RlLXJlbW90ZQ%3D%3D%22%7D%2C%7B%22line%22%3A1%2C%22character%22%3A24%7D%5D \"/workspaces/Learning-Pyspark/Pysparkbasics.ipynb\") as an argument. This lambda function takes the list of substrings [`x`](command:_github.copilot.openSymbolFromReferences?%5B%7B%22%24mid%22%3A1%2C%22fsPath%22%3A%22%2Fworkspaces%2FLearning-Pyspark%2FPysparkbasics.ipynb%22%2C%22path%22%3A%22%2Fworkspaces%2FLearning-Pyspark%2FPysparkbasics.ipynb%22%2C%22scheme%22%3A%22vscode-notebook-cell%22%2C%22authority%22%3A%22codespaces%2Bsolid-umbrella-66wrqw4rwx9f4xrv%22%2C%22fragment%22%3A%22X26sdnNjb2RlLXJlbW90ZQ%3D%3D%22%7D%2C%7B%22line%22%3A1%2C%22character%22%3A24%7D%5D \"/workspaces/Learning-Pyspark/Pysparkbasics.ipynb\") and creates a tuple with the first three elements of the list.\n",
    "\n",
    "6. The second `map()` function converts each list of substrings into a tuple containing the first three elements.\n",
    "\n",
    "7. The resulting RDD, which contains tuples, is assigned to the variable [`result`](command:_github.copilot.openSymbolFromReferences?%5B%7B%22%24mid%22%3A1%2C%22fsPath%22%3A%22%2Fworkspaces%2FLearning-Pyspark%2FPysparkbasics.ipynb%22%2C%22path%22%3A%22%2Fworkspaces%2FLearning-Pyspark%2FPysparkbasics.ipynb%22%2C%22scheme%22%3A%22vscode-notebook-cell%22%2C%22authority%22%3A%22codespaces%2Bsolid-umbrella-66wrqw4rwx9f4xrv%22%2C%22fragment%22%3A%22X26sdnNjb2RlLXJlbW90ZQ%3D%3D%22%7D%2C%7B%22line%22%3A1%2C%22character%22%3A0%7D%5D \"/workspaces/Learning-Pyspark/Pysparkbasics.ipynb\").\n",
    "\n",
    "In summary, this line of code takes an RDD, splits each element into a list of substrings using a comma delimiter, and then converts each list of substrings into a tuple containing the first three elements. The resulting RDD of tuples is assigned to the variable [`result`](command:_github.copilot.openSymbolFromReferences?%5B%7B%22%24mid%22%3A1%2C%22fsPath%22%3A%22%2Fworkspaces%2FLearning-Pyspark%2FPysparkbasics.ipynb%22%2C%22path%22%3A%22%2Fworkspaces%2FLearning-Pyspark%2FPysparkbasics.ipynb%22%2C%22scheme%22%3A%22vscode-notebook-cell%22%2C%22authority%22%3A%22codespaces%2Bsolid-umbrella-66wrqw4rwx9f4xrv%22%2C%22fragment%22%3A%22X26sdnNjb2RlLXJlbW90ZQ%3D%3D%22%7D%2C%7B%22line%22%3A1%2C%22character%22%3A0%7D%5D \"/workspaces/Learning-Pyspark/Pysparkbasics.ipynb\")."
   ]
  },
  {
   "cell_type": "code",
   "execution_count": 31,
   "metadata": {},
   "outputs": [
    {
     "name": "stderr",
     "output_type": "stream",
     "text": [
      "                                                                                \r"
     ]
    },
    {
     "data": {
      "text/plain": [
       "[('school', 'sex', 'age'),\n",
       " ('GP', 'F', '18'),\n",
       " ('GP', 'F', '17'),\n",
       " ('GP', 'F', '15'),\n",
       " ('GP', 'F', '15'),\n",
       " ('GP', 'F', '16'),\n",
       " ('GP', 'M', '16'),\n",
       " ('GP', 'M', '16'),\n",
       " ('GP', 'F', '17'),\n",
       " ('GP', 'M', '15'),\n",
       " ('GP', 'M', '15'),\n",
       " ('GP', 'F', '15'),\n",
       " ('GP', 'F', '15'),\n",
       " ('GP', 'M', '15'),\n",
       " ('GP', 'M', '15'),\n",
       " ('GP', 'M', '15'),\n",
       " ('GP', 'F', '16'),\n",
       " ('GP', 'F', '16'),\n",
       " ('GP', 'F', '16'),\n",
       " ('GP', 'M', '17'),\n",
       " ('GP', 'M', '16'),\n",
       " ('GP', 'M', '15'),\n",
       " ('GP', 'M', '15'),\n",
       " ('GP', 'M', '16'),\n",
       " ('GP', 'M', '16'),\n",
       " ('GP', 'F', '15'),\n",
       " ('GP', 'F', '16'),\n",
       " ('GP', 'M', '15'),\n",
       " ('GP', 'M', '15'),\n",
       " ('GP', 'M', '16'),\n",
       " ('GP', 'M', '16'),\n",
       " ('GP', 'M', '15'),\n",
       " ('GP', 'M', '15'),\n",
       " ('GP', 'M', '15'),\n",
       " ('GP', 'M', '15'),\n",
       " ('GP', 'M', '16'),\n",
       " ('GP', 'F', '15'),\n",
       " ('GP', 'M', '15'),\n",
       " ('GP', 'M', '16'),\n",
       " ('GP', 'F', '15'),\n",
       " ('GP', 'F', '15'),\n",
       " ('GP', 'F', '16'),\n",
       " ('GP', 'M', '15'),\n",
       " ('GP', 'M', '15'),\n",
       " ('GP', 'M', '15'),\n",
       " ('GP', 'F', '16'),\n",
       " ('GP', 'F', '15'),\n",
       " ('GP', 'F', '16'),\n",
       " ('GP', 'M', '16'),\n",
       " ('GP', 'M', '15'),\n",
       " ('GP', 'F', '15'),\n",
       " ('GP', 'F', '16'),\n",
       " ('GP', 'F', '15'),\n",
       " ('GP', 'M', '15'),\n",
       " ('GP', 'F', '15'),\n",
       " ('GP', 'F', '15'),\n",
       " ('GP', 'F', '16'),\n",
       " ('GP', 'F', '15'),\n",
       " ('GP', 'M', '15'),\n",
       " ('GP', 'M', '15'),\n",
       " ('GP', 'F', '16'),\n",
       " ('GP', 'F', '16'),\n",
       " ('GP', 'F', '16'),\n",
       " ('GP', 'F', '16'),\n",
       " ('GP', 'F', '16'),\n",
       " ('GP', 'F', '15'),\n",
       " ('GP', 'F', '16'),\n",
       " ('GP', 'M', '15'),\n",
       " ('GP', 'F', '16'),\n",
       " ('GP', 'F', '15'),\n",
       " ('GP', 'F', '15'),\n",
       " ('GP', 'M', '16'),\n",
       " ('GP', 'M', '15'),\n",
       " ('GP', 'F', '15'),\n",
       " ('GP', 'M', '16'),\n",
       " ('GP', 'F', '16'),\n",
       " ('GP', 'M', '15'),\n",
       " ('GP', 'M', '15'),\n",
       " ('GP', 'F', '16'),\n",
       " ('GP', 'M', '17'),\n",
       " ('GP', 'F', '16'),\n",
       " ('GP', 'M', '15'),\n",
       " ('GP', 'M', '15'),\n",
       " ('GP', 'F', '15'),\n",
       " ('GP', 'M', '15'),\n",
       " ('GP', 'F', '15'),\n",
       " ('GP', 'F', '15'),\n",
       " ('GP', 'F', '16'),\n",
       " ('GP', 'F', '15'),\n",
       " ('GP', 'M', '16'),\n",
       " ('GP', 'M', '16'),\n",
       " ('GP', 'F', '16'),\n",
       " ('GP', 'F', '15'),\n",
       " ('GP', 'F', '16'),\n",
       " ('GP', 'F', '16'),\n",
       " ('GP', 'M', '15'),\n",
       " ('GP', 'F', '15'),\n",
       " ('GP', 'M', '16'),\n",
       " ('GP', 'F', '16'),\n",
       " ('GP', 'F', '16'),\n",
       " ('GP', 'F', '16'),\n",
       " ('GP', 'M', '16'),\n",
       " ('GP', 'M', '16'),\n",
       " ('GP', 'M', '15'),\n",
       " ('GP', 'F', '15'),\n",
       " ('GP', 'M', '15'),\n",
       " ('GP', 'F', '15'),\n",
       " ('GP', 'F', '15'),\n",
       " ('GP', 'M', '16'),\n",
       " ('GP', 'M', '15'),\n",
       " ('GP', 'F', '16'),\n",
       " ('GP', 'M', '15'),\n",
       " ('GP', 'F', '16'),\n",
       " ('GP', 'F', '16'),\n",
       " ('GP', 'M', '15'),\n",
       " ('GP', 'M', '15'),\n",
       " ('GP', 'M', '16'),\n",
       " ('GP', 'M', '15'),\n",
       " ('GP', 'M', '16'),\n",
       " ('GP', 'M', '17'),\n",
       " ('GP', 'M', '15'),\n",
       " ('GP', 'F', '15'),\n",
       " ('GP', 'M', '15'),\n",
       " ('GP', 'F', '16'),\n",
       " ('GP', 'M', '16'),\n",
       " ('GP', 'F', '16'),\n",
       " ('GP', 'M', '15'),\n",
       " ('GP', 'F', '15'),\n",
       " ('GP', 'F', '19'),\n",
       " ('GP', 'M', '18'),\n",
       " ('GP', 'M', '16'),\n",
       " ('GP', 'F', '15'),\n",
       " ('GP', 'F', '15'),\n",
       " ('GP', 'F', '17'),\n",
       " ('GP', 'F', '16'),\n",
       " ('GP', 'M', '15'),\n",
       " ('GP', 'F', '15'),\n",
       " ('GP', 'M', '17'),\n",
       " ('GP', 'F', '16'),\n",
       " ('GP', 'M', '16'),\n",
       " ('GP', 'F', '15'),\n",
       " ('GP', 'M', '15'),\n",
       " ('GP', 'M', '16'),\n",
       " ('GP', 'F', '15'),\n",
       " ('GP', 'F', '16'),\n",
       " ('GP', 'M', '17'),\n",
       " ('GP', 'F', '15'),\n",
       " ('GP', 'F', '15'),\n",
       " ('GP', 'F', '15'),\n",
       " ('GP', 'M', '16'),\n",
       " ('GP', 'M', '15'),\n",
       " ('GP', 'M', '18'),\n",
       " ('GP', 'M', '16'),\n",
       " ('GP', 'F', '15'),\n",
       " ('GP', 'M', '19'),\n",
       " ('GP', 'F', '17'),\n",
       " ('GP', 'M', '15'),\n",
       " ('GP', 'M', '17'),\n",
       " ('GP', 'F', '18'),\n",
       " ('GP', 'M', '16'),\n",
       " ('GP', 'M', '16'),\n",
       " ('GP', 'M', '17'),\n",
       " ('GP', 'M', '15'),\n",
       " ('GP', 'M', '16'),\n",
       " ('GP', 'M', '17'),\n",
       " ('GP', 'M', '17'),\n",
       " ('GP', 'M', '16'),\n",
       " ('GP', 'M', '16'),\n",
       " ('GP', 'F', '16'),\n",
       " ('GP', 'F', '16'),\n",
       " ('GP', 'F', '16'),\n",
       " ('GP', 'M', '16'),\n",
       " ('GP', 'M', '16'),\n",
       " ('GP', 'M', '17'),\n",
       " ('GP', 'F', '16'),\n",
       " ('GP', 'F', '16'),\n",
       " ('GP', 'M', '17'),\n",
       " ('GP', 'F', '16'),\n",
       " ('GP', 'M', '17'),\n",
       " ('GP', 'M', '16'),\n",
       " ('GP', 'M', '17'),\n",
       " ('GP', 'M', '16'),\n",
       " ('GP', 'M', '16'),\n",
       " ('GP', 'F', '17'),\n",
       " ('GP', 'F', '17'),\n",
       " ('GP', 'F', '16'),\n",
       " ('GP', 'M', '17'),\n",
       " ('GP', 'M', '16'),\n",
       " ('GP', 'M', '16'),\n",
       " ('GP', 'F', '17'),\n",
       " ('GP', 'M', '17'),\n",
       " ('GP', 'F', '16'),\n",
       " ('GP', 'F', '17'),\n",
       " ('GP', 'M', '17'),\n",
       " ('GP', 'M', '16'),\n",
       " ('GP', 'M', '16'),\n",
       " ('GP', 'F', '17'),\n",
       " ('GP', 'M', '17'),\n",
       " ('GP', 'M', '16'),\n",
       " ('GP', 'F', '17'),\n",
       " ('GP', 'F', '16'),\n",
       " ('GP', 'F', '16'),\n",
       " ('GP', 'F', '16'),\n",
       " ('GP', 'F', '17'),\n",
       " ('GP', 'F', '17'),\n",
       " ('GP', 'F', '16'),\n",
       " ('GP', 'F', '17'),\n",
       " ('GP', 'F', '16'),\n",
       " ('GP', 'F', '16'),\n",
       " ('GP', 'F', '16'),\n",
       " ('GP', 'F', '17'),\n",
       " ('GP', 'F', '19'),\n",
       " ('GP', 'M', '17'),\n",
       " ('GP', 'F', '16'),\n",
       " ('GP', 'M', '18'),\n",
       " ('GP', 'F', '17'),\n",
       " ('GP', 'F', '17'),\n",
       " ('GP', 'F', '17'),\n",
       " ('GP', 'M', '18'),\n",
       " ('GP', 'F', '17'),\n",
       " ('GP', 'F', '17'),\n",
       " ('GP', 'F', '17'),\n",
       " ('GP', 'F', '17'),\n",
       " ('GP', 'F', '16'),\n",
       " ('GP', 'M', '18'),\n",
       " ('GP', 'F', '16'),\n",
       " ('GP', 'F', '18'),\n",
       " ('GP', 'F', '17'),\n",
       " ('GP', 'M', '17'),\n",
       " ('GP', 'M', '18'),\n",
       " ('GP', 'F', '17'),\n",
       " ('GP', 'F', '17'),\n",
       " ('GP', 'M', '17'),\n",
       " ('GP', 'M', '17'),\n",
       " ('GP', 'M', '16'),\n",
       " ('GP', 'M', '16'),\n",
       " ('GP', 'M', '16'),\n",
       " ('GP', 'M', '17'),\n",
       " ('GP', 'F', '16'),\n",
       " ('GP', 'F', '17'),\n",
       " ('GP', 'M', '18'),\n",
       " ('GP', 'M', '17'),\n",
       " ('GP', 'M', '17'),\n",
       " ('GP', 'M', '16'),\n",
       " ('GP', 'M', '16'),\n",
       " ('GP', 'F', '18'),\n",
       " ('GP', 'M', '16'),\n",
       " ('GP', 'M', '17'),\n",
       " ('GP', 'M', '22'),\n",
       " ('GP', 'M', '18'),\n",
       " ('GP', 'M', '16'),\n",
       " ('GP', 'M', '18'),\n",
       " ('GP', 'M', '16'),\n",
       " ('GP', 'M', '18'),\n",
       " ('GP', 'M', '16'),\n",
       " ('GP', 'M', '17'),\n",
       " ('GP', 'M', '17'),\n",
       " ('GP', 'F', '17'),\n",
       " ('GP', 'M', '19'),\n",
       " ('GP', 'M', '18'),\n",
       " ('GP', 'F', '17'),\n",
       " ('GP', 'F', '18'),\n",
       " ('GP', 'M', '18'),\n",
       " ('GP', 'M', '18'),\n",
       " ('GP', 'F', '17'),\n",
       " ('GP', 'F', '18'),\n",
       " ('GP', 'M', '18'),\n",
       " ('GP', 'M', '17'),\n",
       " ('GP', 'F', '18'),\n",
       " ('GP', 'M', '18'),\n",
       " ('GP', 'F', '18'),\n",
       " ('GP', 'F', '19'),\n",
       " ('GP', 'F', '18'),\n",
       " ('GP', 'F', '18'),\n",
       " ('GP', 'M', '17'),\n",
       " ('GP', 'F', '17'),\n",
       " ('GP', 'F', '17'),\n",
       " ('GP', 'F', '18'),\n",
       " ('GP', 'M', '18'),\n",
       " ('GP', 'F', '18'),\n",
       " ('GP', 'M', '18'),\n",
       " ('GP', 'M', '17'),\n",
       " ('GP', 'M', '17'),\n",
       " ('GP', 'F', '18'),\n",
       " ('GP', 'F', '18'),\n",
       " ('GP', 'F', '17'),\n",
       " ('GP', 'M', '17'),\n",
       " ('GP', 'F', '18'),\n",
       " ('GP', 'F', '17'),\n",
       " ('GP', 'M', '18'),\n",
       " ('GP', 'M', '18'),\n",
       " ('GP', 'M', '18'),\n",
       " ('GP', 'F', '17'),\n",
       " ('GP', 'F', '18'),\n",
       " ('GP', 'F', '17'),\n",
       " ('GP', 'M', '18'),\n",
       " ('GP', 'M', '17'),\n",
       " ('GP', 'F', '19'),\n",
       " ('GP', 'F', '18'),\n",
       " ('GP', 'F', '18'),\n",
       " ('GP', 'M', '18'),\n",
       " ('GP', 'F', '18'),\n",
       " ('GP', 'M', '17'),\n",
       " ('GP', 'F', '17'),\n",
       " ('GP', 'F', '17'),\n",
       " ('GP', 'M', '19'),\n",
       " ('GP', 'F', '18'),\n",
       " ('GP', 'M', '20'),\n",
       " ('GP', 'M', '19'),\n",
       " ('GP', 'M', '19'),\n",
       " ('GP', 'F', '19'),\n",
       " ('GP', 'F', '19'),\n",
       " ('GP', 'F', '19'),\n",
       " ('GP', 'M', '19'),\n",
       " ('GP', 'F', '19'),\n",
       " ('GP', 'F', '19'),\n",
       " ('GP', 'F', '19'),\n",
       " ('GP', 'F', '18'),\n",
       " ('GP', 'F', '18'),\n",
       " ('GP', 'F', '17'),\n",
       " ('GP', 'F', '18'),\n",
       " ('GP', 'F', '17'),\n",
       " ('GP', 'F', '17'),\n",
       " ('GP', 'F', '17'),\n",
       " ('GP', 'F', '17'),\n",
       " ('GP', 'F', '17'),\n",
       " ('GP', 'M', '18'),\n",
       " ('GP', 'M', '17'),\n",
       " ('GP', 'M', '17'),\n",
       " ('GP', 'F', '17'),\n",
       " ('GP', 'F', '17'),\n",
       " ('GP', 'M', '18'),\n",
       " ('GP', 'F', '17'),\n",
       " ('GP', 'F', '18'),\n",
       " ('GP', 'F', '18'),\n",
       " ('GP', 'F', '18'),\n",
       " ('GP', 'F', '17'),\n",
       " ('GP', 'F', '19'),\n",
       " ('GP', 'F', '17'),\n",
       " ('GP', 'F', '18'),\n",
       " ('GP', 'F', '17'),\n",
       " ('GP', 'F', '19'),\n",
       " ('GP', 'M', '18'),\n",
       " ('GP', 'M', '18'),\n",
       " ('GP', 'F', '17'),\n",
       " ('GP', 'F', '18'),\n",
       " ('GP', 'F', '18'),\n",
       " ('GP', 'M', '18'),\n",
       " ('GP', 'M', '18'),\n",
       " ('GP', 'F', '17'),\n",
       " ('MS', 'M', '18'),\n",
       " ('MS', 'M', '19'),\n",
       " ('MS', 'M', '17'),\n",
       " ('MS', 'M', '18'),\n",
       " ('MS', 'M', '19'),\n",
       " ('MS', 'M', '17'),\n",
       " ('MS', 'F', '18'),\n",
       " ('MS', 'F', '17'),\n",
       " ('MS', 'F', '17'),\n",
       " ('MS', 'M', '18'),\n",
       " ('MS', 'F', '18'),\n",
       " ('MS', 'F', '18'),\n",
       " ('MS', 'M', '18'),\n",
       " ('MS', 'F', '18'),\n",
       " ('MS', 'F', '17'),\n",
       " ('MS', 'F', '17'),\n",
       " ('MS', 'M', '18'),\n",
       " ('MS', 'M', '18'),\n",
       " ('MS', 'F', '17'),\n",
       " ('MS', 'F', '18'),\n",
       " ('MS', 'F', '18'),\n",
       " ('MS', 'F', '19'),\n",
       " ('MS', 'M', '18'),\n",
       " ('MS', 'F', '17'),\n",
       " ('MS', 'F', '17'),\n",
       " ('MS', 'F', '18'),\n",
       " ('MS', 'F', '18'),\n",
       " ('MS', 'F', '20'),\n",
       " ('MS', 'F', '18'),\n",
       " ('MS', 'F', '18'),\n",
       " ('MS', 'F', '17'),\n",
       " ('MS', 'M', '18'),\n",
       " ('MS', 'M', '18'),\n",
       " ('MS', 'M', '17'),\n",
       " ('MS', 'M', '19'),\n",
       " ('MS', 'M', '18'),\n",
       " ('MS', 'F', '18'),\n",
       " ('MS', 'F', '18'),\n",
       " ('MS', 'F', '19'),\n",
       " ('MS', 'F', '18'),\n",
       " ('MS', 'F', '18'),\n",
       " ('MS', 'M', '20'),\n",
       " ('MS', 'M', '17'),\n",
       " ('MS', 'M', '21'),\n",
       " ('MS', 'M', '18'),\n",
       " ('MS', 'M', '19')]"
      ]
     },
     "execution_count": 31,
     "metadata": {},
     "output_type": "execute_result"
    }
   ],
   "source": [
    "result.collect()"
   ]
  },
  {
   "cell_type": "code",
   "execution_count": 4,
   "metadata": {},
   "outputs": [],
   "source": [
    "from pyspark.ml import Pipeline\n",
    "from pyspark.ml.feature import StringIndexer, OneHotEncoder, VectorAssembler\n",
    "from pyspark.ml.classification import LogisticRegression\n",
    "from pyspark.ml.evaluation import RegressionEvaluator"
   ]
  },
  {
   "cell_type": "code",
   "execution_count": 5,
   "metadata": {},
   "outputs": [
    {
     "name": "stderr",
     "output_type": "stream",
     "text": [
      "24/07/22 10:46:09 WARN Utils: Your hostname, codespaces-fb7010 resolves to a loopback address: 127.0.0.1; using 172.16.5.4 instead (on interface eth0)\n",
      "24/07/22 10:46:09 WARN Utils: Set SPARK_LOCAL_IP if you need to bind to another address\n",
      "Setting default log level to \"WARN\".\n",
      "To adjust logging level use sc.setLogLevel(newLevel). For SparkR, use setLogLevel(newLevel).\n",
      "24/07/22 10:46:10 WARN NativeCodeLoader: Unable to load native-hadoop library for your platform... using builtin-java classes where applicable\n",
      "24/07/22 10:46:11 WARN Utils: Service 'SparkUI' could not bind on port 4040. Attempting port 4041.\n",
      "24/07/22 10:46:11 WARN Utils: Service 'SparkUI' could not bind on port 4041. Attempting port 4042.\n"
     ]
    }
   ],
   "source": [
    "spark = SparkSession.builder.appName(\"LinearRegressionOnPatients\").getOrCreate()"
   ]
  },
  {
   "cell_type": "code",
   "execution_count": 6,
   "metadata": {},
   "outputs": [
    {
     "data": {
      "text/html": [
       "\n",
       "            <div>\n",
       "                <p><b>SparkSession - in-memory</b></p>\n",
       "                \n",
       "        <div>\n",
       "            <p><b>SparkContext</b></p>\n",
       "\n",
       "            <p><a href=\"http://8e556a56-0931-4ad9-99b2-281bb553dd23.internal.cloudapp.net:4042\">Spark UI</a></p>\n",
       "\n",
       "            <dl>\n",
       "              <dt>Version</dt>\n",
       "                <dd><code>v3.5.1</code></dd>\n",
       "              <dt>Master</dt>\n",
       "                <dd><code>local[*]</code></dd>\n",
       "              <dt>AppName</dt>\n",
       "                <dd><code>LinearRegressionOnPatients</code></dd>\n",
       "            </dl>\n",
       "        </div>\n",
       "        \n",
       "            </div>\n",
       "        "
      ],
      "text/plain": [
       "<pyspark.sql.session.SparkSession at 0x74144c169610>"
      ]
     },
     "execution_count": 6,
     "metadata": {},
     "output_type": "execute_result"
    }
   ],
   "source": [
    "spark\n"
   ]
  },
  {
   "cell_type": "code",
   "execution_count": 7,
   "metadata": {},
   "outputs": [
    {
     "name": "stderr",
     "output_type": "stream",
     "text": [
      "24/07/22 10:46:22 WARN GarbageCollectionMetrics: To enable non-built-in garbage collector(s) List(G1 Concurrent GC), users should configure it(them) to spark.eventLog.gcMetrics.youngGenerationGarbageCollectors or spark.eventLog.gcMetrics.oldGenerationGarbageCollectors\n"
     ]
    }
   ],
   "source": [
    "df = spark.read.csv('diabetes.csv' , header=True , inferSchema=True)"
   ]
  },
  {
   "cell_type": "code",
   "execution_count": 11,
   "metadata": {},
   "outputs": [
    {
     "name": "stdout",
     "output_type": "stream",
     "text": [
      "+-----------+-------+-------------+-------------+-------+----+------------------------+---+-------+\n",
      "|Pregnancies|Glucose|BloodPressure|SkinThickness|Insulin| BMI|DiabetesPedigreeFunction|Age|Outcome|\n",
      "+-----------+-------+-------------+-------------+-------+----+------------------------+---+-------+\n",
      "|          6|    148|           72|           35|      0|33.6|                   0.627| 50|      1|\n",
      "|          1|     85|           66|           29|      0|26.6|                   0.351| 31|      0|\n",
      "|          8|    183|           64|            0|      0|23.3|                   0.672| 32|      1|\n",
      "|          1|     89|           66|           23|     94|28.1|                   0.167| 21|      0|\n",
      "|          0|    137|           40|           35|    168|43.1|                   2.288| 33|      1|\n",
      "|          5|    116|           74|            0|      0|25.6|                   0.201| 30|      0|\n",
      "|          3|     78|           50|           32|     88|31.0|                   0.248| 26|      1|\n",
      "|         10|    115|            0|            0|      0|35.3|                   0.134| 29|      0|\n",
      "|          2|    197|           70|           45|    543|30.5|                   0.158| 53|      1|\n",
      "|          8|    125|           96|            0|      0| 0.0|                   0.232| 54|      1|\n",
      "|          4|    110|           92|            0|      0|37.6|                   0.191| 30|      0|\n",
      "|         10|    168|           74|            0|      0|38.0|                   0.537| 34|      1|\n",
      "|         10|    139|           80|            0|      0|27.1|                   1.441| 57|      0|\n",
      "|          1|    189|           60|           23|    846|30.1|                   0.398| 59|      1|\n",
      "|          5|    166|           72|           19|    175|25.8|                   0.587| 51|      1|\n",
      "|          7|    100|            0|            0|      0|30.0|                   0.484| 32|      1|\n",
      "|          0|    118|           84|           47|    230|45.8|                   0.551| 31|      1|\n",
      "|          7|    107|           74|            0|      0|29.6|                   0.254| 31|      1|\n",
      "|          1|    103|           30|           38|     83|43.3|                   0.183| 33|      0|\n",
      "|          1|    115|           70|           30|     96|34.6|                   0.529| 32|      1|\n",
      "+-----------+-------+-------------+-------------+-------+----+------------------------+---+-------+\n",
      "only showing top 20 rows\n",
      "\n"
     ]
    }
   ],
   "source": [
    "df.show()"
   ]
  },
  {
   "cell_type": "code",
   "execution_count": 15,
   "metadata": {},
   "outputs": [],
   "source": [
    "feature_columns = df.columns[:-1]  # all columns except the last one\n"
   ]
  }
 ],
 "metadata": {
  "kernelspec": {
   "display_name": "Python 3",
   "language": "python",
   "name": "python3"
  },
  "language_info": {
   "codemirror_mode": {
    "name": "ipython",
    "version": 3
   },
   "file_extension": ".py",
   "mimetype": "text/x-python",
   "name": "python",
   "nbconvert_exporter": "python",
   "pygments_lexer": "ipython3",
   "version": "3.11.9"
  }
 },
 "nbformat": 4,
 "nbformat_minor": 2
}
