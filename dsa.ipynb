{
 "cells": [
  {
   "cell_type": "code",
   "execution_count": 1,
   "metadata": {},
   "outputs": [],
   "source": [
    "## DSA day one"
   ]
  },
  {
   "cell_type": "code",
   "execution_count": 8,
   "metadata": {},
   "outputs": [],
   "source": [
    "import numpy as np"
   ]
  },
  {
   "cell_type": "code",
   "execution_count": 10,
   "metadata": {},
   "outputs": [],
   "source": [
    "# Find the greater num among two numbers\n",
    "def greater_num(num1, num2):\n",
    "    if num1 > num2:\n",
    "        return num1\n",
    "    else:\n",
    "        return num2 "
   ]
  },
  {
   "cell_type": "code",
   "execution_count": 12,
   "metadata": {},
   "outputs": [
    {
     "data": {
      "text/plain": [
       "10"
      ]
     },
     "execution_count": 12,
     "metadata": {},
     "output_type": "execute_result"
    }
   ],
   "source": [
    "greater_num(10, 10)"
   ]
  },
  {
   "cell_type": "code",
   "execution_count": 17,
   "metadata": {},
   "outputs": [],
   "source": [
    "list1 = np.arange(1, 20)"
   ]
  },
  {
   "cell_type": "code",
   "execution_count": 18,
   "metadata": {},
   "outputs": [
    {
     "data": {
      "text/plain": [
       "array([ 1,  2,  3,  4,  5,  6,  7,  8,  9, 10, 11, 12, 13, 14, 15, 16, 17,\n",
       "       18, 19])"
      ]
     },
     "execution_count": 18,
     "metadata": {},
     "output_type": "execute_result"
    }
   ],
   "source": [
    "list1"
   ]
  },
  {
   "cell_type": "code",
   "execution_count": 19,
   "metadata": {},
   "outputs": [],
   "source": [
    "#Check if a number is greater than 25 or 50 or 100\n",
    "def check_num(num):\n",
    "    if num > 100:\n",
    "        return \"The number is greater than 100\"\n",
    "    elif num > 50:\n",
    "        return \"The number is greater than 50\"\n",
    "    elif num > 25:\n",
    "        return \"The number is greater than 25\"\n",
    "    else:\n",
    "        return \"The number is less than 25\""
   ]
  },
  {
   "cell_type": "code",
   "execution_count": 20,
   "metadata": {},
   "outputs": [
    {
     "data": {
      "text/plain": [
       "'The number is greater than 100'"
      ]
     },
     "execution_count": 20,
     "metadata": {},
     "output_type": "execute_result"
    }
   ],
   "source": [
    "check_num(263)"
   ]
  },
  {
   "cell_type": "code",
   "execution_count": 25,
   "metadata": {},
   "outputs": [
    {
     "data": {
      "text/plain": [
       "array([  1,   2,   3,   4, 100,   6,   7,   8,   9,  10])"
      ]
     },
     "execution_count": 25,
     "metadata": {},
     "output_type": "execute_result"
    }
   ],
   "source": [
    " #tuples vs lists\n",
    "\n",
    "#Tuples are immutable while lists are mutable\n",
    "#Tuples are faster than lists\n",
    "#Tuples are used when the data is not supposed to change\n",
    "#Tuples are used as keys in dictionaries while lists are not\n",
    "#Tuples are used in string formatting\n",
    "\n",
    "#Create a list of 10 elements\n",
    "list2 = np.arange(1, 11)\n",
    "list2\n",
    "\n",
    "#Change the 5th element of the list\n",
    "list2[4] = 100\n",
    "list2\n",
    "\n"
   ]
  },
  {
   "cell_type": "code",
   "execution_count": 26,
   "metadata": {},
   "outputs": [],
   "source": [
    "def any_func(value):\n",
    "    print(value)\n",
    "\n"
   ]
  },
  {
   "cell_type": "code",
   "execution_count": 30,
   "metadata": {},
   "outputs": [
    {
     "name": "stdout",
     "output_type": "stream",
     "text": [
      "3\n"
     ]
    }
   ],
   "source": [
    "any_func(3)"
   ]
  },
  {
   "cell_type": "markdown",
   "metadata": {},
   "source": [
    "### Greedy Algorithm\n",
    "\n",
    "A **Greedy Algorithm** is a problem-solving approach that makes a series of choices, each of which looks the best at the moment. The algorithm follows the problem-solving heuristic of making the locally optimal choice at each stage with the hope of finding a global optimum.\n",
    "\n",
    "#### Key Characteristics:\n",
    "1. **Local Optimality:** At each step, the algorithm makes a choice that seems the best at that moment.\n",
    "2. **Irrevocable Decisions:** Once a choice is made, it cannot be undone.\n",
    "3. **Feasibility:** The choice must be feasible, meaning it must satisfy the problem's constraints.\n",
    "4. **Optimal Substructure:** The problem can be broken down into smaller subproblems, and the solution to the problem can be constructed efficiently from the solutions to the subproblems.\n",
    "\n",
    "#### Steps:\n",
    "1. **Selection:** Choose the best option from the current state.\n",
    "2. **Feasibility Check:** Ensure the chosen option is feasible.\n",
    "3. **Solution Construction:** Add the chosen option to the solution.\n",
    "4. **Repeat:** Repeat the process until the entire problem is solved.\n",
    "\n",
    "#### Example Problems:\n",
    "1. **Activity Selection Problem:** Select the maximum number of activities that don't overlap.\n",
    "2. **Fractional Knapsack Problem:** Maximize the total value in the knapsack by taking fractions of items.\n",
    "3. **Huffman Coding:** Construct an optimal prefix code for a set of characters based on their frequencies.\n",
    "\n",
    "#### Example Code: Fractional Knapsack Problem\n"
   ]
  },
  {
   "cell_type": "markdown",
   "metadata": {},
   "source": [
    "### TimSort\n",
    "\n",
    "**TimSort** is a hybrid sorting algorithm derived from merge sort and insertion sort. It is designed to perform well on many kinds of real-world data. It was implemented in Python's built-in `sort()` method and Java's `Arrays.sort()`.\n",
    "\n",
    "- **Key Features:**\n",
    "  - **Hybrid Approach:** Combines the best parts of merge sort and insertion sort.\n",
    "  - **Stability:** Maintains the relative order of equal elements.\n",
    "  - **Adaptive:** Efficiently handles partially ordered arrays.\n",
    "  - **Divide and Conquer:** Divides the array into small segments (runs) and sorts them using insertion sort, then merges the runs using merge sort.\n",
    "\n",
    "- **Steps:**\n",
    "  1. **Divide the Array:** Split the array into small segments called runs.\n",
    "  2. **Sort the Runs:** Use insertion sort to sort each run.\n",
    "  3. **Merge the Runs:** Use merge sort to merge the sorted runs into a single sorted array.\n",
    "\n",
    "### Interpolation Search\n",
    "\n",
    "**Interpolation Search** is an algorithm for searching for a given key in a sorted array. It is an improvement over binary search for instances where the values in the array are uniformly distributed.\n",
    "\n",
    "- **Key Features:**\n",
    "  - **Efficient for Uniformly Distributed Data:** Performs better than binary search when the data is uniformly distributed.\n",
    "  - **Dynamic Probing:** Uses the value of the key to estimate the position of the key in the array.\n",
    "\n",
    "- **Steps:**\n",
    "  1. **Calculate the Position:** Estimate the position of the key using the formula:\n",
    "     \\[\n",
    "     \\text{pos} = \\text{low} + \\left( \\frac{(\\text{high} - \\text{low})}{(\\text{arr[high]} - \\text{arr[low]})} \\times (\\text{x} - \\text{arr[low]}) \\right)\n",
    "     \\]\n",
    "  2. **Compare and Adjust:** Compare the key with the value at the estimated position. If it matches, return the position. If the key is smaller, adjust the high index; if larger, adjust the low index.\n",
    "  3. **Repeat:** Repeat the process until the key is found or the search space is exhausted.\n",
    "\n",
    "### Example Code\n",
    "\n",
    "#### TimSort\n"
   ]
  },
  {
   "cell_type": "code",
   "execution_count": null,
   "metadata": {},
   "outputs": [],
   "source": [
    "MIN_MERGE = 32\n",
    "\n",
    "def calc_min_run(n):\n",
    "    r = 0\n",
    "    while n >= MIN_MERGE:\n",
    "        r |= n & 1\n",
    "        n >>= 1\n",
    "    return n + r\n",
    "\n",
    "def insertion_sort(arr, left, right):\n",
    "    for i in range(left + 1, right + 1):\n",
    "        j = i\n",
    "        while j > left and arr[j] < arr[j - 1]:\n",
    "            arr[j], arr[j - 1] = arr[j - 1], arr[j]\n",
    "            j -= 1\n",
    "\n",
    "def merge(arr, l, m, r):\n",
    "    len1, len2 = m - l + 1, r - m\n",
    "    left, right = [], []\n",
    "    for i in range(0, len1):\n",
    "        left.append(arr[l + i])\n",
    "    for i in range(0, len2):\n",
    "        right.append(arr[m + 1 + i])\n",
    "\n",
    "    i, j, k = 0, 0, l\n",
    "\n",
    "    while i < len1 and j < len2:\n",
    "        if left[i] <= right[j]:\n",
    "            arr[k] = left[i]\n",
    "            i += 1\n",
    "        else:\n",
    "            arr[k] = right[j]\n",
    "            j += 1\n",
    "        k += 1\n",
    "\n",
    "    while i < len1:\n",
    "        arr[k] = left[i]\n",
    "        i += 1\n",
    "        k += 1\n",
    "\n",
    "    while j < len2:\n",
    "        arr[k] = right[j]\n",
    "        j += 1\n",
    "        k += 1\n",
    "\n",
    "def tim_sort(arr):\n",
    "    n = len(arr)\n",
    "    min_run = calc_min_run(n)\n",
    "\n",
    "    for start in range(0, n, min_run):\n",
    "        end = min(start + min_run - 1, n - 1)\n",
    "        insertion_sort(arr, start, end)\n",
    "\n",
    "    size = min_run\n",
    "    while size < n:\n",
    "        for left in range(0, n, 2 * size):\n",
    "            mid = min(n - 1, left + size - 1)\n",
    "            right = min((left + 2 * size - 1), (n - 1))\n",
    "\n",
    "            if mid < right:\n",
    "                merge(arr, left, mid, right)\n",
    "\n",
    "        size = 2 * size\n",
    "\n",
    "# Example usage\n",
    "arr = [5, 21, 7, 23, 19]\n",
    "tim_sort(arr)\n",
    "print(arr)"
   ]
  },
  {
   "cell_type": "markdown",
   "metadata": {},
   "source": [
    "\n",
    "\n",
    "#### Interpolation Search\n"
   ]
  },
  {
   "cell_type": "code",
   "execution_count": null,
   "metadata": {},
   "outputs": [],
   "source": [
    "def interpolation_search(arr, x):\n",
    "    low = 0\n",
    "    high = len(arr) - 1\n",
    "\n",
    "    while low <= high and x >= arr[low] and x <= arr[high]:\n",
    "        if low == high:\n",
    "            if arr[low] == x:\n",
    "                return low\n",
    "            return -1\n",
    "\n",
    "        pos = low + ((high - low) // (arr[high] - arr[low]) * (x - arr[low]))\n",
    "\n",
    "        if arr[pos] == x:\n",
    "            return pos\n",
    "\n",
    "        if arr[pos] < x:\n",
    "            low = pos + 1\n",
    "        else:\n",
    "            high = pos - 1\n",
    "\n",
    "    return -1\n",
    "\n",
    "# Example usage\n",
    "arr = [10, 12, 13, 16, 18, 19, 20, 21, 22, 23, 24, 33, 35, 42, 47]\n",
    "x = 18\n",
    "index = interpolation_search(arr, x)\n",
    "print(f\"Element {x} is at index {index}\")"
   ]
  },
  {
   "cell_type": "markdown",
   "metadata": {},
   "source": [
    "\n",
    "\n",
    "These examples illustrate how TimSort and Interpolation Search work and how they can be implemented in Python."
   ]
  },
  {
   "cell_type": "code",
   "execution_count": null,
   "metadata": {},
   "outputs": [],
   "source": [
    "class Item:\n",
    "    def __init__(self, value, weight):\n",
    "        self.value = value\n",
    "        self.weight = weight\n",
    "\n",
    "def fractional_knapsack(items, capacity):\n",
    "    # Sort items by value-to-weight ratio in descending order\n",
    "    items.sort(key=lambda x: x.value / x.weight, reverse=True)\n",
    "    \n",
    "    total_value = 0.0\n",
    "    for item in items:\n",
    "        if capacity - item.weight >= 0:\n",
    "            capacity -= item.weight\n",
    "            total_value += item.value\n",
    "        else:\n",
    "            fraction = capacity / item.weight\n",
    "            total_value += item.value * fraction\n",
    "            break\n",
    "    \n",
    "    return total_value\n",
    "\n",
    "# Example usage\n",
    "items = [Item(60, 10), Item(100, 20), Item(120, 30)]\n",
    "capacity = 50\n",
    "max_value = fractional_knapsack(items, capacity)\n",
    "print(f\"Maximum value in Knapsack = {max_value}\")"
   ]
  },
  {
   "cell_type": "markdown",
   "metadata": {},
   "source": [
    "\n",
    "\n",
    "In this example, the `fractional_knapsack` function uses a greedy approach to maximize the total value in the knapsack by taking fractions of items based on their value-to-weight ratio.\n",
    "\n",
    "Greedy algorithms are simple and efficient for many problems, but they do not always produce the optimal solution for every problem. It is essential to analyze the problem to ensure that a greedy approach will yield an optimal solution."
   ]
  }
 ],
 "metadata": {
  "language_info": {
   "name": "python"
  }
 },
 "nbformat": 4,
 "nbformat_minor": 2
}
